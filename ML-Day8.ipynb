{
 "cells": [
  {
   "cell_type": "markdown",
   "metadata": {},
   "source": [
    "Group of data used to find pattern or answer is called population\n",
    "Subset of data from population is called sample\n",
    "\n",
    "Descriptive sample:\n",
    "Influencial sample:\n",
    "\n",
    "SRS : Simple Random Sampling\n",
    "    \n",
    "Stratified sampling, bucket diff characteristic data from pop and then do SRS\n",
    "\n",
    "strata should be far from each other\n",
    "\n",
    "should be equally in place\n",
    "\n",
    "samplin = para - statistics\n",
    "\n",
    "clustering sampling have different source of dataset, then Stratified sampling\n",
    "\n",
    "n = sample size\n",
    "N = pop size\n",
    "\n",
    "X bar is random variable can hv any value in an expreiment randomly in sample space ex throwin dice\n",
    "x is variable can hv any value\n",
    "\n",
    "mean is balance point\n",
    "median is a center point\n",
    "\n",
    "variable must, hav diff, direction, measure\n",
    "\n",
    "\n",
    "nomial variable , variable has only diff, no direction, use mode \n",
    "\n",
    "odinal variable, variable has diff, direction, use median\n",
    "\n",
    "\n",
    "sqrt root of variance is std deviance\n",
    "\n",
    "\n",
    "Bessel correction , is variance correction to make the sample closer to pop\n",
    "\n",
    "\n",
    "IQR \n",
    "QQ plot\n",
    "\n",
    "KDE kernel distribution \n",
    "\n",
    "z score how far from mean - z test\n",
    "\n",
    "pearson and spearman correlation\n",
    "\n",
    "Distribution is a freqn of data value\n",
    "\n",
    "Law of large numbers ?\n",
    "law of central limit theorem ?\n",
    "\n",
    "normal distribution is continuos\n",
    "binomial distribution is discrete\n",
    "\n",
    "\n",
    "\n",
    "\n",
    "\n",
    "\n"
   ]
  },
  {
   "cell_type": "code",
   "execution_count": 3,
   "metadata": {},
   "outputs": [],
   "source": [
    "import pandas as pd"
   ]
  },
  {
   "cell_type": "code",
   "execution_count": 4,
   "metadata": {},
   "outputs": [],
   "source": [
    "df = pd.read_csv('/Users/03000070/Downloads/wnba.csv')"
   ]
  },
  {
   "cell_type": "code",
   "execution_count": 5,
   "metadata": {},
   "outputs": [
    {
     "data": {
      "text/html": [
       "<div>\n",
       "<style scoped>\n",
       "    .dataframe tbody tr th:only-of-type {\n",
       "        vertical-align: middle;\n",
       "    }\n",
       "\n",
       "    .dataframe tbody tr th {\n",
       "        vertical-align: top;\n",
       "    }\n",
       "\n",
       "    .dataframe thead th {\n",
       "        text-align: right;\n",
       "    }\n",
       "</style>\n",
       "<table border=\"1\" class=\"dataframe\">\n",
       "  <thead>\n",
       "    <tr style=\"text-align: right;\">\n",
       "      <th></th>\n",
       "      <th>Name</th>\n",
       "      <th>Team</th>\n",
       "      <th>Pos</th>\n",
       "      <th>Height</th>\n",
       "      <th>Weight</th>\n",
       "      <th>BMI</th>\n",
       "      <th>Birth_Place</th>\n",
       "      <th>Birthdate</th>\n",
       "      <th>Age</th>\n",
       "      <th>College</th>\n",
       "      <th>...</th>\n",
       "      <th>OREB</th>\n",
       "      <th>DREB</th>\n",
       "      <th>REB</th>\n",
       "      <th>AST</th>\n",
       "      <th>STL</th>\n",
       "      <th>BLK</th>\n",
       "      <th>TO</th>\n",
       "      <th>PTS</th>\n",
       "      <th>DD2</th>\n",
       "      <th>TD3</th>\n",
       "    </tr>\n",
       "  </thead>\n",
       "  <tbody>\n",
       "    <tr>\n",
       "      <th>0</th>\n",
       "      <td>Aerial Powers</td>\n",
       "      <td>DAL</td>\n",
       "      <td>F</td>\n",
       "      <td>183</td>\n",
       "      <td>71.0</td>\n",
       "      <td>21.200991</td>\n",
       "      <td>US</td>\n",
       "      <td>January 17, 1994</td>\n",
       "      <td>23</td>\n",
       "      <td>Michigan State</td>\n",
       "      <td>...</td>\n",
       "      <td>6</td>\n",
       "      <td>22</td>\n",
       "      <td>28</td>\n",
       "      <td>12</td>\n",
       "      <td>3</td>\n",
       "      <td>6</td>\n",
       "      <td>12</td>\n",
       "      <td>93</td>\n",
       "      <td>0</td>\n",
       "      <td>0</td>\n",
       "    </tr>\n",
       "    <tr>\n",
       "      <th>1</th>\n",
       "      <td>Alana Beard</td>\n",
       "      <td>LA</td>\n",
       "      <td>G/F</td>\n",
       "      <td>185</td>\n",
       "      <td>73.0</td>\n",
       "      <td>21.329438</td>\n",
       "      <td>US</td>\n",
       "      <td>May 14, 1982</td>\n",
       "      <td>35</td>\n",
       "      <td>Duke</td>\n",
       "      <td>...</td>\n",
       "      <td>19</td>\n",
       "      <td>82</td>\n",
       "      <td>101</td>\n",
       "      <td>72</td>\n",
       "      <td>63</td>\n",
       "      <td>13</td>\n",
       "      <td>40</td>\n",
       "      <td>217</td>\n",
       "      <td>0</td>\n",
       "      <td>0</td>\n",
       "    </tr>\n",
       "    <tr>\n",
       "      <th>2</th>\n",
       "      <td>Alex Bentley</td>\n",
       "      <td>CON</td>\n",
       "      <td>G</td>\n",
       "      <td>170</td>\n",
       "      <td>69.0</td>\n",
       "      <td>23.875433</td>\n",
       "      <td>US</td>\n",
       "      <td>October 27, 1990</td>\n",
       "      <td>26</td>\n",
       "      <td>Penn State</td>\n",
       "      <td>...</td>\n",
       "      <td>4</td>\n",
       "      <td>36</td>\n",
       "      <td>40</td>\n",
       "      <td>78</td>\n",
       "      <td>22</td>\n",
       "      <td>3</td>\n",
       "      <td>24</td>\n",
       "      <td>218</td>\n",
       "      <td>0</td>\n",
       "      <td>0</td>\n",
       "    </tr>\n",
       "    <tr>\n",
       "      <th>3</th>\n",
       "      <td>Alex Montgomery</td>\n",
       "      <td>SAN</td>\n",
       "      <td>G/F</td>\n",
       "      <td>185</td>\n",
       "      <td>84.0</td>\n",
       "      <td>24.543462</td>\n",
       "      <td>US</td>\n",
       "      <td>December 11, 1988</td>\n",
       "      <td>28</td>\n",
       "      <td>Georgia Tech</td>\n",
       "      <td>...</td>\n",
       "      <td>35</td>\n",
       "      <td>134</td>\n",
       "      <td>169</td>\n",
       "      <td>65</td>\n",
       "      <td>20</td>\n",
       "      <td>10</td>\n",
       "      <td>38</td>\n",
       "      <td>188</td>\n",
       "      <td>2</td>\n",
       "      <td>0</td>\n",
       "    </tr>\n",
       "    <tr>\n",
       "      <th>4</th>\n",
       "      <td>Alexis Jones</td>\n",
       "      <td>MIN</td>\n",
       "      <td>G</td>\n",
       "      <td>175</td>\n",
       "      <td>78.0</td>\n",
       "      <td>25.469388</td>\n",
       "      <td>US</td>\n",
       "      <td>August 5, 1994</td>\n",
       "      <td>23</td>\n",
       "      <td>Baylor</td>\n",
       "      <td>...</td>\n",
       "      <td>3</td>\n",
       "      <td>9</td>\n",
       "      <td>12</td>\n",
       "      <td>12</td>\n",
       "      <td>7</td>\n",
       "      <td>0</td>\n",
       "      <td>14</td>\n",
       "      <td>50</td>\n",
       "      <td>0</td>\n",
       "      <td>0</td>\n",
       "    </tr>\n",
       "  </tbody>\n",
       "</table>\n",
       "<p>5 rows × 32 columns</p>\n",
       "</div>"
      ],
      "text/plain": [
       "              Name Team  Pos  Height  Weight        BMI Birth_Place  \\\n",
       "0    Aerial Powers  DAL    F     183    71.0  21.200991          US   \n",
       "1      Alana Beard   LA  G/F     185    73.0  21.329438          US   \n",
       "2     Alex Bentley  CON    G     170    69.0  23.875433          US   \n",
       "3  Alex Montgomery  SAN  G/F     185    84.0  24.543462          US   \n",
       "4     Alexis Jones  MIN    G     175    78.0  25.469388          US   \n",
       "\n",
       "           Birthdate  Age         College  ... OREB  DREB  REB  AST  STL  BLK  \\\n",
       "0   January 17, 1994   23  Michigan State  ...    6    22   28   12    3    6   \n",
       "1       May 14, 1982   35            Duke  ...   19    82  101   72   63   13   \n",
       "2   October 27, 1990   26      Penn State  ...    4    36   40   78   22    3   \n",
       "3  December 11, 1988   28    Georgia Tech  ...   35   134  169   65   20   10   \n",
       "4     August 5, 1994   23          Baylor  ...    3     9   12   12    7    0   \n",
       "\n",
       "   TO  PTS  DD2  TD3  \n",
       "0  12   93    0    0  \n",
       "1  40  217    0    0  \n",
       "2  24  218    0    0  \n",
       "3  38  188    2    0  \n",
       "4  14   50    0    0  \n",
       "\n",
       "[5 rows x 32 columns]"
      ]
     },
     "execution_count": 5,
     "metadata": {},
     "output_type": "execute_result"
    }
   ],
   "source": [
    "df.head()"
   ]
  },
  {
   "cell_type": "code",
   "execution_count": 8,
   "metadata": {},
   "outputs": [
    {
     "data": {
      "text/plain": [
       "(143, 32)"
      ]
     },
     "execution_count": 8,
     "metadata": {},
     "output_type": "execute_result"
    }
   ],
   "source": [
    "df.shape"
   ]
  },
  {
   "cell_type": "code",
   "execution_count": 9,
   "metadata": {},
   "outputs": [
    {
     "data": {
      "text/plain": [
       "32"
      ]
     },
     "execution_count": 9,
     "metadata": {},
     "output_type": "execute_result"
    }
   ],
   "source": [
    "df[\"Games Played\"].max()"
   ]
  },
  {
   "cell_type": "code",
   "execution_count": 10,
   "metadata": {},
   "outputs": [],
   "source": [
    "parameter = df[\"Games Played\"].max()"
   ]
  },
  {
   "cell_type": "code",
   "execution_count": 16,
   "metadata": {},
   "outputs": [
    {
     "data": {
      "text/plain": [
       "30"
      ]
     },
     "execution_count": 16,
     "metadata": {},
     "output_type": "execute_result"
    }
   ],
   "source": [
    "# getting 10 random sample \n",
    "#df[\"Games Played\"].sample(10, random_state = 1).max()\n",
    "df.sample(10, random_state = 1)[\"Games Played\"].max()"
   ]
  },
  {
   "cell_type": "code",
   "execution_count": 12,
   "metadata": {},
   "outputs": [],
   "source": [
    "sampling_error = parameter - df[\"Games Played\"].sample(30, random_state = 1).max()"
   ]
  },
  {
   "cell_type": "code",
   "execution_count": 13,
   "metadata": {},
   "outputs": [
    {
     "data": {
      "text/plain": [
       "2"
      ]
     },
     "execution_count": 13,
     "metadata": {},
     "output_type": "execute_result"
    }
   ],
   "source": [
    "sampling_error"
   ]
  },
  {
   "cell_type": "code",
   "execution_count": 17,
   "metadata": {},
   "outputs": [
    {
     "data": {
      "text/plain": [
       "201.7902097902098"
      ]
     },
     "execution_count": 17,
     "metadata": {},
     "output_type": "execute_result"
    }
   ],
   "source": [
    "#\n",
    "df[\"PTS\"].mean()"
   ]
  },
  {
   "cell_type": "code",
   "execution_count": 24,
   "metadata": {},
   "outputs": [],
   "source": [
    "population_mean = df[\"PTS\"].mean()"
   ]
  },
  {
   "cell_type": "code",
   "execution_count": 26,
   "metadata": {},
   "outputs": [],
   "source": [
    "# samples = []\n",
    "# for i in range(100):\n",
    "#     samples.append(df.sample(30, random_state = i)[\"PTS\"].mean())\n",
    "    \n",
    "sample_means=[]\n",
    "for i in range(100):\n",
    "    sample = df.sample(30,random_state=i)\n",
    "    sample_means.append(sample[\"PTS\"].mean())\n",
    "    "
   ]
  },
  {
   "cell_type": "code",
   "execution_count": 27,
   "metadata": {},
   "outputs": [
    {
     "data": {
      "text/plain": [
       "[196.23333333333332,\n",
       " 207.2,\n",
       " 160.6,\n",
       " 224.96666666666667,\n",
       " 186.56666666666666,\n",
       " 211.7,\n",
       " 224.53333333333333,\n",
       " 164.83333333333334,\n",
       " 232.8,\n",
       " 246.63333333333333,\n",
       " 241.2,\n",
       " 188.53333333333333,\n",
       " 207.73333333333332,\n",
       " 239.63333333333333,\n",
       " 201.0,\n",
       " 210.1,\n",
       " 166.5,\n",
       " 213.8,\n",
       " 193.96666666666667,\n",
       " 220.33333333333334,\n",
       " 212.73333333333332,\n",
       " 230.46666666666667,\n",
       " 161.0,\n",
       " 207.0,\n",
       " 201.46666666666667,\n",
       " 193.73333333333332,\n",
       " 181.76666666666668,\n",
       " 200.86666666666667,\n",
       " 162.53333333333333,\n",
       " 200.1,\n",
       " 189.06666666666666,\n",
       " 215.13333333333333,\n",
       " 205.5,\n",
       " 143.43333333333334,\n",
       " 244.46666666666667,\n",
       " 181.3,\n",
       " 174.4,\n",
       " 168.9,\n",
       " 183.7,\n",
       " 185.3,\n",
       " 185.36666666666667,\n",
       " 184.5,\n",
       " 256.8333333333333,\n",
       " 229.0,\n",
       " 206.8,\n",
       " 191.53333333333333,\n",
       " 205.46666666666667,\n",
       " 249.46666666666667,\n",
       " 197.66666666666666,\n",
       " 205.33333333333334,\n",
       " 148.96666666666667,\n",
       " 170.9,\n",
       " 196.56666666666666,\n",
       " 174.63333333333333,\n",
       " 207.83333333333334,\n",
       " 195.66666666666666,\n",
       " 197.0,\n",
       " 246.1,\n",
       " 221.7,\n",
       " 221.16666666666666,\n",
       " 254.0,\n",
       " 216.13333333333333,\n",
       " 123.76666666666667,\n",
       " 191.66666666666666,\n",
       " 221.96666666666667,\n",
       " 151.4,\n",
       " 195.56666666666666,\n",
       " 142.1,\n",
       " 206.16666666666666,\n",
       " 203.2,\n",
       " 224.66666666666666,\n",
       " 163.66666666666666,\n",
       " 185.73333333333332,\n",
       " 212.06666666666666,\n",
       " 224.3,\n",
       " 196.66666666666666,\n",
       " 237.8,\n",
       " 191.2,\n",
       " 253.93333333333334,\n",
       " 193.03333333333333,\n",
       " 201.56666666666666,\n",
       " 215.36666666666667,\n",
       " 248.63333333333333,\n",
       " 236.2,\n",
       " 214.7,\n",
       " 182.63333333333333,\n",
       " 208.33333333333334,\n",
       " 255.4,\n",
       " 183.7,\n",
       " 173.66666666666666,\n",
       " 193.1,\n",
       " 240.4,\n",
       " 182.66666666666666,\n",
       " 193.83333333333334,\n",
       " 199.56666666666666,\n",
       " 193.73333333333332,\n",
       " 193.1,\n",
       " 191.63333333333333,\n",
       " 208.9,\n",
       " 161.46666666666667]"
      ]
     },
     "execution_count": 27,
     "metadata": {},
     "output_type": "execute_result"
    }
   ],
   "source": [
    "sample_means"
   ]
  },
  {
   "cell_type": "code",
   "execution_count": 28,
   "metadata": {},
   "outputs": [],
   "source": [
    "import matplotlib.pyplot as plt"
   ]
  },
  {
   "cell_type": "code",
   "execution_count": 31,
   "metadata": {},
   "outputs": [
    {
     "data": {
      "text/plain": [
       "<matplotlib.lines.Line2D at 0x11fb00518>"
      ]
     },
     "execution_count": 31,
     "metadata": {},
     "output_type": "execute_result"
    },
    {
     "data": {
      "image/png": "[encoded data removed]",
      "text/plain": [
       "<Figure size 432x288 with 1 Axes>"
      ]
     },
     "metadata": {
      "needs_background": "light"
     },
     "output_type": "display_data"
    }
   ],
   "source": [
    "plt.scatter(range(100),sample_means)\n",
    "plt.axhline(population_mean)"
   ]
  },
  {
   "cell_type": "code",
   "execution_count": 36,
   "metadata": {},
   "outputs": [
    {
     "data": {
      "text/plain": [
       "G      0.419580\n",
       "F      0.230769\n",
       "C      0.174825\n",
       "G/F    0.090909\n",
       "F/C    0.083916\n",
       "Name: Pos, dtype: float64"
      ]
     },
     "execution_count": 36,
     "metadata": {},
     "output_type": "execute_result"
    }
   ],
   "source": [
    "df[\"Pos\"].value_counts(normalize = True)"
   ]
  },
  {
   "cell_type": "code",
   "execution_count": 37,
   "metadata": {},
   "outputs": [],
   "source": [
    "sample_27 = df.sample(30,random_state=27)"
   ]
  },
  {
   "cell_type": "code",
   "execution_count": 40,
   "metadata": {},
   "outputs": [
    {
     "data": {
      "text/plain": [
       "G      0.466667\n",
       "C      0.233333\n",
       "F/C    0.100000\n",
       "F      0.100000\n",
       "G/F    0.100000\n",
       "Name: Pos, dtype: float64"
      ]
     },
     "execution_count": 40,
     "metadata": {},
     "output_type": "execute_result"
    }
   ],
   "source": [
    "sample_27[\"Pos\"].value_counts(normalize = True)"
   ]
  },
  {
   "cell_type": "code",
   "execution_count": 41,
   "metadata": {},
   "outputs": [],
   "source": [
    "#create a Strate for each pos\n",
    "\n",
    "G = df[df[\"Pos\"] == \"G\"]\n",
    "C = df[df[\"Pos\"] == \"C\"]\n",
    "F_C = df[df[\"Pos\"] == \"F/C\"]\n",
    "F = df[df[\"Pos\"] == \"F\"]\n",
    "G_F = df[df[\"Pos\"] == \"G/F\"]"
   ]
  },
  {
   "cell_type": "code",
   "execution_count": 43,
   "metadata": {},
   "outputs": [],
   "source": [
    "key = dict(df[\"Pos\"].value_counts(normalize = True))"
   ]
  },
  {
   "cell_type": "code",
   "execution_count": 44,
   "metadata": {},
   "outputs": [
    {
     "data": {
      "text/plain": [
       "{'G': 0.4195804195804196,\n",
       " 'F': 0.23076923076923078,\n",
       " 'C': 0.17482517482517482,\n",
       " 'G/F': 0.09090909090909091,\n",
       " 'F/C': 0.08391608391608392}"
      ]
     },
     "execution_count": 44,
     "metadata": {},
     "output_type": "execute_result"
    }
   ],
   "source": [
    "key"
   ]
  },
  {
   "cell_type": "code",
   "execution_count": 45,
   "metadata": {},
   "outputs": [],
   "source": [
    "sizes = []\n",
    "\n",
    "for x in key.items():\n",
    "    sizes.append(round(30*x[1],0))"
   ]
  },
  {
   "cell_type": "code",
   "execution_count": 49,
   "metadata": {},
   "outputs": [],
   "source": [
    "sizes = [int(x) for x in sizes]"
   ]
  },
  {
   "cell_type": "code",
   "execution_count": 50,
   "metadata": {},
   "outputs": [
    {
     "data": {
      "text/plain": [
       "[13, 7, 5, 3, 3]"
      ]
     },
     "execution_count": 50,
     "metadata": {},
     "output_type": "execute_result"
    }
   ],
   "source": [
    "sizes"
   ]
  },
  {
   "cell_type": "code",
   "execution_count": 51,
   "metadata": {},
   "outputs": [
    {
     "data": {
      "text/plain": [
       "['G', 'F', 'C', 'G/F', 'F/C']"
      ]
     },
     "execution_count": 51,
     "metadata": {},
     "output_type": "execute_result"
    }
   ],
   "source": [
    "list(key.keys())"
   ]
  },
  {
   "cell_type": "code",
   "execution_count": 53,
   "metadata": {},
   "outputs": [],
   "source": [
    "g_sample = G.sample(13,random_state=0)\n",
    "f_sample = F.sample(7,random_state=0)\n",
    "c_sample = C.sample(5,random_state=0)\n",
    "g_f_sample = G_F.sample(3,random_state=0)\n",
    "f_c_sample = F_C.sample(3,random_state=0)"
   ]
  },
  {
   "cell_type": "code",
   "execution_count": 59,
   "metadata": {},
   "outputs": [
    {
     "data": {
      "text/plain": [
       "243.09677419354838"
      ]
     },
     "execution_count": 59,
     "metadata": {},
     "output_type": "execute_result"
    }
   ],
   "source": [
    "pd.concat([g_sample,f_sample,c_sample,g_f_sample,f_c_sample])[\"PTS\"].mean()"
   ]
  },
  {
   "cell_type": "code",
   "execution_count": 60,
   "metadata": {},
   "outputs": [
    {
     "data": {
      "text/plain": [
       "(31, 32)"
      ]
     },
     "execution_count": 60,
     "metadata": {},
     "output_type": "execute_result"
    }
   ],
   "source": [
    "pd.concat([g_sample,f_sample,c_sample,g_f_sample,f_c_sample]).shape"
   ]
  },
  {
   "cell_type": "code",
   "execution_count": 63,
   "metadata": {},
   "outputs": [],
   "source": [
    "df[\"weight deviation\"] = round(df[\"Weight\"].mean() - df[\"Weight\"],1)"
   ]
  },
  {
   "cell_type": "code",
   "execution_count": 64,
   "metadata": {},
   "outputs": [
    {
     "data": {
      "text/plain": [
       " 2.0     10\n",
       "-5.0      9\n",
       " 13.0     8\n",
       "-7.0      7\n",
       "-8.0      6\n",
       "-9.0      6\n",
       "-0.0      6\n",
       " 6.0      6\n",
       " 15.0     5\n",
       "-2.0      5\n",
       " 1.0      5\n",
       " 4.0      4\n",
       "-4.0      4\n",
       " 14.0     4\n",
       " 5.0      4\n",
       " 3.0      4\n",
       "-3.0      4\n",
       "-1.0      3\n",
       "-12.0     3\n",
       " 16.0     3\n",
       "-10.0     3\n",
       " 9.0      3\n",
       "-14.0     3\n",
       " 10.0     2\n",
       "-34.0     2\n",
       " 11.0     2\n",
       "-25.0     2\n",
       "-16.0     2\n",
       "-6.0      2\n",
       "-11.0     2\n",
       " 20.0     2\n",
       "-17.0     2\n",
       " 8.0      2\n",
       "-18.0     1\n",
       " 17.0     1\n",
       "-29.0     1\n",
       " 22.0     1\n",
       " 12.0     1\n",
       " 21.0     1\n",
       " 24.0     1\n",
       "Name: weight deviation, dtype: int64"
      ]
     },
     "execution_count": 64,
     "metadata": {},
     "output_type": "execute_result"
    }
   ],
   "source": [
    "df[\"weight deviation\"].value_counts()"
   ]
  },
  {
   "cell_type": "code",
   "execution_count": 65,
   "metadata": {},
   "outputs": [
    {
     "data": {
      "text/plain": [
       "9      77.0\n",
       "19     77.0\n",
       "21     77.0\n",
       "33     77.0\n",
       "56     77.0\n",
       "65     77.0\n",
       "70     77.0\n",
       "102    77.0\n",
       "117    77.0\n",
       "132    77.0\n",
       "Name: Weight, dtype: float64"
      ]
     },
     "execution_count": 65,
     "metadata": {},
     "output_type": "execute_result"
    }
   ],
   "source": [
    "df[df[\"weight deviation\"] == 2][\"Weight\"]"
   ]
  },
  {
   "cell_type": "code",
   "execution_count": 66,
   "metadata": {},
   "outputs": [
    {
     "data": {
      "text/plain": [
       "78.97887323943662"
      ]
     },
     "execution_count": 66,
     "metadata": {},
     "output_type": "execute_result"
    }
   ],
   "source": [
    "df[\"Weight\"].mean()"
   ]
  },
  {
   "cell_type": "code",
   "execution_count": 67,
   "metadata": {},
   "outputs": [],
   "source": [
    "# diff spearman & pearson corelation\n",
    "# bias vs variance\n",
    "# system should be low bias and low variance\n",
    "# statsquest\n"
   ]
  },
  {
   "cell_type": "code",
   "execution_count": null,
   "metadata": {},
   "outputs": [],
   "source": []
  }
 ],
 "metadata": {
  "kernelspec": {
   "display_name": "Python 3",
   "language": "python",
   "name": "python3"
  },
  "language_info": {
   "codemirror_mode": {
    "name": "ipython",
    "version": 3
   },
   "file_extension": ".py",
   "mimetype": "text/x-python",
   "name": "python",
   "nbconvert_exporter": "python",
   "pygments_lexer": "ipython3",
   "version": "3.7.3"
  }
 },
 "nbformat": 4,
 "nbformat_minor": 2
}
