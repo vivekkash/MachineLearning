{
  "nbformat": 4,
  "nbformat_minor": 0,
  "metadata": {
    "colab": {
      "name": "Keras-modelling.ipynb",
      "provenance": [],
      "toc_visible": true,
      "authorship_tag": "ABX9TyOYg9yqUzhGtLmzyG5tu9Oo",
      "include_colab_link": true
    },
    "kernelspec": {
      "name": "python3",
      "display_name": "Python 3"
    }
  },
  "cells": [
    {
      "cell_type": "markdown",
      "metadata": {
        "id": "view-in-github",
        "colab_type": "text"
      },
      "source": [
        "<a href=\"https://colab.research.google.com/github/vivekkash/MachineLearning/blob/master/Keras_modelling.ipynb\" target=\"_parent\"><img src=\"https://colab.research.google.com/assets/colab-badge.svg\" alt=\"Open In Colab\"/></a>"
      ]
    },
    {
      "cell_type": "code",
      "metadata": {
        "id": "gOUytzsXXKKP",
        "colab_type": "code",
        "colab": {}
      },
      "source": [
        "import pandas as pd\n",
        "import numpy as np\n",
        "\n",
        "import matplotlib.pyplot as plt\n",
        "%matplotlib inline\n",
        "\n",
        "from sklearn.model_selection import train_test_split\n",
        "from sklearn.metrics import accuracy_score\n",
        "\n",
        "#from keras.models import Sequential\n",
        "#from keras.layers.core import Dense, Dropout, Activation\n",
        "\n",
        "import warnings\n",
        "warnings.filterwarnings(\"ignore\")\n",
        "\n",
        "# load the data\n",
        "data = pd.read_csv('https://raw.githubusercontent.com/bhushan45/churn_modeling/master/Churn_Modelling.csv')\n",
        "\n",
        "# separate into features and target\n",
        "X = data[[\"CreditScore\", \"Age\", \"Tenure\", \"Balance\", \"NumOfProducts\", \"HasCrCard\", \"IsActiveMember\", \"EstimatedSalary\"]]\n",
        "y = data[\"Exited\"]\n",
        "\n",
        "# mean normalization and scaling\n",
        "mean, std = np.mean(X), np.std(X)\n",
        "X = (X - mean) / std\n",
        "X = pd.concat([X, pd.get_dummies(data[\"Gender\"], prefix=\"Gender\", drop_first = True)], axis = 1)\n",
        "\n",
        "# transform data according to the model input format\n",
        "X_train, X_test, y_train, y_test = train_test_split(X, y, test_size = .20, random_state= 9, stratify=y) "
      ],
      "execution_count": 4,
      "outputs": []
    },
    {
      "cell_type": "code",
      "metadata": {
        "id": "8nPCchOGjCrj",
        "colab_type": "code",
        "colab": {
          "base_uri": "https://localhost:8080/",
          "height": 224
        },
        "outputId": "1a80add1-6853-40c4-d058-4f3b456309ba"
      },
      "source": [
        "data.head()"
      ],
      "execution_count": 29,
      "outputs": [
        {
          "output_type": "execute_result",
          "data": {
            "text/html": [
              "<div>\n",
              "<style scoped>\n",
              "    .dataframe tbody tr th:only-of-type {\n",
              "        vertical-align: middle;\n",
              "    }\n",
              "\n",
              "    .dataframe tbody tr th {\n",
              "        vertical-align: top;\n",
              "    }\n",
              "\n",
              "    .dataframe thead th {\n",
              "        text-align: right;\n",
              "    }\n",
              "</style>\n",
              "<table border=\"1\" class=\"dataframe\">\n",
              "  <thead>\n",
              "    <tr style=\"text-align: right;\">\n",
              "      <th></th>\n",
              "      <th>RowNumber</th>\n",
              "      <th>CustomerId</th>\n",
              "      <th>Surname</th>\n",
              "      <th>CreditScore</th>\n",
              "      <th>Geography</th>\n",
              "      <th>Gender</th>\n",
              "      <th>Age</th>\n",
              "      <th>Tenure</th>\n",
              "      <th>Balance</th>\n",
              "      <th>NumOfProducts</th>\n",
              "      <th>HasCrCard</th>\n",
              "      <th>IsActiveMember</th>\n",
              "      <th>EstimatedSalary</th>\n",
              "      <th>Exited</th>\n",
              "    </tr>\n",
              "  </thead>\n",
              "  <tbody>\n",
              "    <tr>\n",
              "      <th>0</th>\n",
              "      <td>1</td>\n",
              "      <td>15634602</td>\n",
              "      <td>Hargrave</td>\n",
              "      <td>619</td>\n",
              "      <td>France</td>\n",
              "      <td>Female</td>\n",
              "      <td>42</td>\n",
              "      <td>2</td>\n",
              "      <td>0.00</td>\n",
              "      <td>1</td>\n",
              "      <td>1</td>\n",
              "      <td>1</td>\n",
              "      <td>101348.88</td>\n",
              "      <td>1</td>\n",
              "    </tr>\n",
              "    <tr>\n",
              "      <th>1</th>\n",
              "      <td>2</td>\n",
              "      <td>15647311</td>\n",
              "      <td>Hill</td>\n",
              "      <td>608</td>\n",
              "      <td>Spain</td>\n",
              "      <td>Female</td>\n",
              "      <td>41</td>\n",
              "      <td>1</td>\n",
              "      <td>83807.86</td>\n",
              "      <td>1</td>\n",
              "      <td>0</td>\n",
              "      <td>1</td>\n",
              "      <td>112542.58</td>\n",
              "      <td>0</td>\n",
              "    </tr>\n",
              "    <tr>\n",
              "      <th>2</th>\n",
              "      <td>3</td>\n",
              "      <td>15619304</td>\n",
              "      <td>Onio</td>\n",
              "      <td>502</td>\n",
              "      <td>France</td>\n",
              "      <td>Female</td>\n",
              "      <td>42</td>\n",
              "      <td>8</td>\n",
              "      <td>159660.80</td>\n",
              "      <td>3</td>\n",
              "      <td>1</td>\n",
              "      <td>0</td>\n",
              "      <td>113931.57</td>\n",
              "      <td>1</td>\n",
              "    </tr>\n",
              "    <tr>\n",
              "      <th>3</th>\n",
              "      <td>4</td>\n",
              "      <td>15701354</td>\n",
              "      <td>Boni</td>\n",
              "      <td>699</td>\n",
              "      <td>France</td>\n",
              "      <td>Female</td>\n",
              "      <td>39</td>\n",
              "      <td>1</td>\n",
              "      <td>0.00</td>\n",
              "      <td>2</td>\n",
              "      <td>0</td>\n",
              "      <td>0</td>\n",
              "      <td>93826.63</td>\n",
              "      <td>0</td>\n",
              "    </tr>\n",
              "    <tr>\n",
              "      <th>4</th>\n",
              "      <td>5</td>\n",
              "      <td>15737888</td>\n",
              "      <td>Mitchell</td>\n",
              "      <td>850</td>\n",
              "      <td>Spain</td>\n",
              "      <td>Female</td>\n",
              "      <td>43</td>\n",
              "      <td>2</td>\n",
              "      <td>125510.82</td>\n",
              "      <td>1</td>\n",
              "      <td>1</td>\n",
              "      <td>1</td>\n",
              "      <td>79084.10</td>\n",
              "      <td>0</td>\n",
              "    </tr>\n",
              "  </tbody>\n",
              "</table>\n",
              "</div>"
            ],
            "text/plain": [
              "   RowNumber  CustomerId   Surname  ...  IsActiveMember EstimatedSalary Exited\n",
              "0          1    15634602  Hargrave  ...               1       101348.88      1\n",
              "1          2    15647311      Hill  ...               1       112542.58      0\n",
              "2          3    15619304      Onio  ...               0       113931.57      1\n",
              "3          4    15701354      Boni  ...               0        93826.63      0\n",
              "4          5    15737888  Mitchell  ...               1        79084.10      0\n",
              "\n",
              "[5 rows x 14 columns]"
            ]
          },
          "metadata": {
            "tags": []
          },
          "execution_count": 29
        }
      ]
    },
    {
      "cell_type": "code",
      "metadata": {
        "id": "aFtkNbBVXlyB",
        "colab_type": "code",
        "colab": {
          "base_uri": "https://localhost:8080/",
          "height": 34
        },
        "outputId": "ffbd50ff-72a4-45a6-93a5-bbdac6d6dc3f"
      },
      "source": [
        "from sklearn.tree import DecisionTreeClassifier as DT\n",
        "\n",
        "clf = DT()\n",
        "clf.fit(X_train,y_train)\n",
        "y_pred = clf.predict(X_test)\n",
        "print('Accuracy for Descision Tree {}'.format(accuracy_score(y_pred,y_test)))"
      ],
      "execution_count": 22,
      "outputs": [
        {
          "output_type": "stream",
          "text": [
            "Accuracy for Descision Tree 0.785\n"
          ],
          "name": "stdout"
        }
      ]
    },
    {
      "cell_type": "code",
      "metadata": {
        "id": "Mug_M9ZvXoHs",
        "colab_type": "code",
        "colab": {
          "base_uri": "https://localhost:8080/",
          "height": 34
        },
        "outputId": "3f9da109-3c3c-4258-af7c-63b2a697a4f2"
      },
      "source": [
        "from sklearn.linear_model import LogisticRegression as L\n",
        "\n",
        "log = L(C=1e5)\n",
        "log.fit(X_train,y_train)\n",
        "y_pred = log.predict(X_test)\n",
        "print('Accuracy for Logistic Regression {}'.format(accuracy_score(y_pred,y_test)))\n"
      ],
      "execution_count": 23,
      "outputs": [
        {
          "output_type": "stream",
          "text": [
            "Accuracy for Logistic Regression 0.807\n"
          ],
          "name": "stdout"
        }
      ]
    },
    {
      "cell_type": "code",
      "metadata": {
        "id": "6moaC5YDZ9Ui",
        "colab_type": "code",
        "colab": {}
      },
      "source": [
        "import keras\n",
        "from keras.models import Sequential\n",
        "from keras.layers.core import Layer,Dropout,Activation,Dense\n",
        "\n"
      ],
      "execution_count": 12,
      "outputs": []
    },
    {
      "cell_type": "code",
      "metadata": {
        "id": "NqRlFC-zbZX5",
        "colab_type": "code",
        "colab": {
          "base_uri": "https://localhost:8080/",
          "height": 1000
        },
        "outputId": "e86c68aa-3168-456f-f49e-952935e836ab"
      },
      "source": [
        "model = Sequential()\n",
        "model.add(Dense(10,input_shape=(X_train.shape[1],),activation='relu'))\n",
        "model.add(Dense(20,activation='relu'))\n",
        "model.add(Dense(5,activation='relu'))\n",
        "model.add(Dense(1,activation='sigmoid'))\n",
        "model.compile(loss='binary_crossentropy', optimizer='adam', metrics=['accuracy'])\n",
        "model.fit(X_train,y_train,validation_split=0.2 ,epochs=40,batch_size=100)"
      ],
      "execution_count": 66,
      "outputs": [
        {
          "output_type": "stream",
          "text": [
            "Train on 6400 samples, validate on 1600 samples\n",
            "Epoch 1/40\n",
            "6400/6400 [==============================] - 0s 51us/step - loss: 0.5990 - accuracy: 0.7220 - val_loss: 0.5166 - val_accuracy: 0.7981\n",
            "Epoch 2/40\n",
            "6400/6400 [==============================] - 0s 24us/step - loss: 0.4955 - accuracy: 0.7958 - val_loss: 0.4790 - val_accuracy: 0.7981\n",
            "Epoch 3/40\n",
            "6400/6400 [==============================] - 0s 24us/step - loss: 0.4674 - accuracy: 0.7958 - val_loss: 0.4562 - val_accuracy: 0.7981\n",
            "Epoch 4/40\n",
            "6400/6400 [==============================] - 0s 24us/step - loss: 0.4465 - accuracy: 0.7956 - val_loss: 0.4384 - val_accuracy: 0.7981\n",
            "Epoch 5/40\n",
            "6400/6400 [==============================] - 0s 23us/step - loss: 0.4318 - accuracy: 0.7970 - val_loss: 0.4266 - val_accuracy: 0.8075\n",
            "Epoch 6/40\n",
            "6400/6400 [==============================] - 0s 20us/step - loss: 0.4212 - accuracy: 0.8098 - val_loss: 0.4180 - val_accuracy: 0.8219\n",
            "Epoch 7/40\n",
            "6400/6400 [==============================] - 0s 20us/step - loss: 0.4125 - accuracy: 0.8241 - val_loss: 0.4114 - val_accuracy: 0.8313\n",
            "Epoch 8/40\n",
            "6400/6400 [==============================] - 0s 22us/step - loss: 0.4053 - accuracy: 0.8283 - val_loss: 0.4067 - val_accuracy: 0.8406\n",
            "Epoch 9/40\n",
            "6400/6400 [==============================] - 0s 20us/step - loss: 0.3998 - accuracy: 0.8300 - val_loss: 0.3982 - val_accuracy: 0.8400\n",
            "Epoch 10/40\n",
            "6400/6400 [==============================] - 0s 18us/step - loss: 0.3934 - accuracy: 0.8364 - val_loss: 0.3937 - val_accuracy: 0.8431\n",
            "Epoch 11/40\n",
            "6400/6400 [==============================] - 0s 17us/step - loss: 0.3879 - accuracy: 0.8397 - val_loss: 0.3883 - val_accuracy: 0.8450\n",
            "Epoch 12/40\n",
            "6400/6400 [==============================] - 0s 18us/step - loss: 0.3831 - accuracy: 0.8411 - val_loss: 0.3838 - val_accuracy: 0.8431\n",
            "Epoch 13/40\n",
            "6400/6400 [==============================] - 0s 17us/step - loss: 0.3787 - accuracy: 0.8413 - val_loss: 0.3805 - val_accuracy: 0.8444\n",
            "Epoch 14/40\n",
            "6400/6400 [==============================] - 0s 16us/step - loss: 0.3747 - accuracy: 0.8444 - val_loss: 0.3710 - val_accuracy: 0.8481\n",
            "Epoch 15/40\n",
            "6400/6400 [==============================] - 0s 16us/step - loss: 0.3715 - accuracy: 0.8458 - val_loss: 0.3662 - val_accuracy: 0.8512\n",
            "Epoch 16/40\n",
            "6400/6400 [==============================] - 0s 16us/step - loss: 0.3683 - accuracy: 0.8492 - val_loss: 0.3662 - val_accuracy: 0.8469\n",
            "Epoch 17/40\n",
            "6400/6400 [==============================] - 0s 17us/step - loss: 0.3664 - accuracy: 0.8477 - val_loss: 0.3602 - val_accuracy: 0.8550\n",
            "Epoch 18/40\n",
            "6400/6400 [==============================] - 0s 16us/step - loss: 0.3644 - accuracy: 0.8487 - val_loss: 0.3574 - val_accuracy: 0.8569\n",
            "Epoch 19/40\n",
            "6400/6400 [==============================] - 0s 17us/step - loss: 0.3630 - accuracy: 0.8508 - val_loss: 0.3558 - val_accuracy: 0.8587\n",
            "Epoch 20/40\n",
            "6400/6400 [==============================] - 0s 16us/step - loss: 0.3621 - accuracy: 0.8500 - val_loss: 0.3581 - val_accuracy: 0.8519\n",
            "Epoch 21/40\n",
            "6400/6400 [==============================] - 0s 17us/step - loss: 0.3604 - accuracy: 0.8512 - val_loss: 0.3534 - val_accuracy: 0.8562\n",
            "Epoch 22/40\n",
            "6400/6400 [==============================] - 0s 19us/step - loss: 0.3594 - accuracy: 0.8505 - val_loss: 0.3512 - val_accuracy: 0.8581\n",
            "Epoch 23/40\n",
            "6400/6400 [==============================] - 0s 16us/step - loss: 0.3589 - accuracy: 0.8491 - val_loss: 0.3514 - val_accuracy: 0.8594\n",
            "Epoch 24/40\n",
            "6400/6400 [==============================] - 0s 16us/step - loss: 0.3577 - accuracy: 0.8520 - val_loss: 0.3493 - val_accuracy: 0.8581\n",
            "Epoch 25/40\n",
            "6400/6400 [==============================] - 0s 16us/step - loss: 0.3565 - accuracy: 0.8520 - val_loss: 0.3481 - val_accuracy: 0.8600\n",
            "Epoch 26/40\n",
            "6400/6400 [==============================] - 0s 17us/step - loss: 0.3560 - accuracy: 0.8525 - val_loss: 0.3498 - val_accuracy: 0.8562\n",
            "Epoch 27/40\n",
            "6400/6400 [==============================] - 0s 16us/step - loss: 0.3560 - accuracy: 0.8528 - val_loss: 0.3507 - val_accuracy: 0.8562\n",
            "Epoch 28/40\n",
            "6400/6400 [==============================] - 0s 15us/step - loss: 0.3552 - accuracy: 0.8527 - val_loss: 0.3496 - val_accuracy: 0.8550\n",
            "Epoch 29/40\n",
            "6400/6400 [==============================] - 0s 16us/step - loss: 0.3549 - accuracy: 0.8534 - val_loss: 0.3463 - val_accuracy: 0.8612\n",
            "Epoch 30/40\n",
            "6400/6400 [==============================] - 0s 16us/step - loss: 0.3536 - accuracy: 0.8520 - val_loss: 0.3468 - val_accuracy: 0.8606\n",
            "Epoch 31/40\n",
            "6400/6400 [==============================] - 0s 17us/step - loss: 0.3533 - accuracy: 0.8528 - val_loss: 0.3469 - val_accuracy: 0.8606\n",
            "Epoch 32/40\n",
            "6400/6400 [==============================] - 0s 16us/step - loss: 0.3527 - accuracy: 0.8527 - val_loss: 0.3510 - val_accuracy: 0.8544\n",
            "Epoch 33/40\n",
            "6400/6400 [==============================] - 0s 18us/step - loss: 0.3527 - accuracy: 0.8519 - val_loss: 0.3451 - val_accuracy: 0.8606\n",
            "Epoch 34/40\n",
            "6400/6400 [==============================] - 0s 16us/step - loss: 0.3520 - accuracy: 0.8537 - val_loss: 0.3464 - val_accuracy: 0.8600\n",
            "Epoch 35/40\n",
            "6400/6400 [==============================] - 0s 19us/step - loss: 0.3510 - accuracy: 0.8539 - val_loss: 0.3481 - val_accuracy: 0.8550\n",
            "Epoch 36/40\n",
            "6400/6400 [==============================] - 0s 21us/step - loss: 0.3509 - accuracy: 0.8533 - val_loss: 0.3451 - val_accuracy: 0.8587\n",
            "Epoch 37/40\n",
            "6400/6400 [==============================] - 0s 19us/step - loss: 0.3508 - accuracy: 0.8542 - val_loss: 0.3458 - val_accuracy: 0.8606\n",
            "Epoch 38/40\n",
            "6400/6400 [==============================] - 0s 20us/step - loss: 0.3505 - accuracy: 0.8542 - val_loss: 0.3509 - val_accuracy: 0.8556\n",
            "Epoch 39/40\n",
            "6400/6400 [==============================] - 0s 17us/step - loss: 0.3505 - accuracy: 0.8542 - val_loss: 0.3456 - val_accuracy: 0.8594\n",
            "Epoch 40/40\n",
            "6400/6400 [==============================] - 0s 20us/step - loss: 0.3492 - accuracy: 0.8547 - val_loss: 0.3448 - val_accuracy: 0.8619\n"
          ],
          "name": "stdout"
        },
        {
          "output_type": "execute_result",
          "data": {
            "text/plain": [
              "<keras.callbacks.callbacks.History at 0x7f3dc8ffaa20>"
            ]
          },
          "metadata": {
            "tags": []
          },
          "execution_count": 66
        }
      ]
    },
    {
      "cell_type": "code",
      "metadata": {
        "id": "WJlaI-mrdRDD",
        "colab_type": "code",
        "colab": {}
      },
      "source": [
        "y_pred = model.predict(X_test)\n",
        "#print('Accuracy for Keras {}'.format(accuracy_score(y_pred,y_test)))\n"
      ],
      "execution_count": 67,
      "outputs": []
    },
    {
      "cell_type": "code",
      "metadata": {
        "id": "58AqU33lgj7v",
        "colab_type": "code",
        "colab": {}
      },
      "source": [
        "y_pred_c = np.where(y_pred > 0.5, 1, 0)"
      ],
      "execution_count": 68,
      "outputs": []
    },
    {
      "cell_type": "code",
      "metadata": {
        "id": "mmRIq3rSjncj",
        "colab_type": "code",
        "colab": {
          "base_uri": "https://localhost:8080/",
          "height": 34
        },
        "outputId": "3314c8a6-7999-47a9-c675-3a0b59aaa396"
      },
      "source": [
        "print('Accuracy for Keras {}'.format(accuracy_score(y_pred_c,y_test)))"
      ],
      "execution_count": 69,
      "outputs": [
        {
          "output_type": "stream",
          "text": [
            "Accuracy for Keras 0.863\n"
          ],
          "name": "stdout"
        }
      ]
    },
    {
      "cell_type": "code",
      "metadata": {
        "id": "OG6BH4W58ZFU",
        "colab_type": "code",
        "colab": {}
      },
      "source": [
        ""
      ],
      "execution_count": null,
      "outputs": []
    }
  ]
}