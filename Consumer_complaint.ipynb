{
  "nbformat": 4,
  "nbformat_minor": 0,
  "metadata": {
    "colab": {
      "name": "Consumer_complaint.ipynb",
      "provenance": [],
      "machine_shape": "hm"
    },
    "kernelspec": {
      "name": "python3",
      "display_name": "Python 3"
    },
    "accelerator": "GPU"
  },
  "cells": [
    {
      "cell_type": "code",
      "metadata": {
        "id": "GbStTUj4dAZK",
        "colab_type": "code",
        "colab": {}
      },
      "source": [
        "import pandas as pd\n",
        "from sklearn.preprocessing import LabelEncoder"
      ],
      "execution_count": 0,
      "outputs": []
    },
    {
      "cell_type": "code",
      "metadata": {
        "id": "qHqOr_cDdRbw",
        "colab_type": "code",
        "outputId": "a98b1a9a-7fb3-4e43-b285-638ca5b0d759",
        "colab": {
          "base_uri": "https://localhost:8080/",
          "height": 556
        }
      },
      "source": [
        "df=pd.read_pickle(\"/content/drive/My Drive/first_pickle.pkl\")\n",
        "df.head()"
      ],
      "execution_count": 3,
      "outputs": [
        {
          "output_type": "execute_result",
          "data": {
            "text/html": [
              "<div>\n",
              "<style scoped>\n",
              "    .dataframe tbody tr th:only-of-type {\n",
              "        vertical-align: middle;\n",
              "    }\n",
              "\n",
              "    .dataframe tbody tr th {\n",
              "        vertical-align: top;\n",
              "    }\n",
              "\n",
              "    .dataframe thead th {\n",
              "        text-align: right;\n",
              "    }\n",
              "</style>\n",
              "<table border=\"1\" class=\"dataframe\">\n",
              "  <thead>\n",
              "    <tr style=\"text-align: right;\">\n",
              "      <th></th>\n",
              "      <th>Date received</th>\n",
              "      <th>Product</th>\n",
              "      <th>Sub-product</th>\n",
              "      <th>Issue</th>\n",
              "      <th>Sub-issue</th>\n",
              "      <th>Consumer complaint narrative</th>\n",
              "      <th>Company public response</th>\n",
              "      <th>Company</th>\n",
              "      <th>State</th>\n",
              "      <th>ZIP code</th>\n",
              "      <th>Tags</th>\n",
              "      <th>Consumer consent provided?</th>\n",
              "      <th>Submitted via</th>\n",
              "      <th>Date sent to company</th>\n",
              "      <th>Company response to consumer</th>\n",
              "      <th>Timely response?</th>\n",
              "      <th>Consumer disputed?</th>\n",
              "      <th>Complaint ID</th>\n",
              "    </tr>\n",
              "  </thead>\n",
              "  <tbody>\n",
              "    <tr>\n",
              "      <th>0</th>\n",
              "      <td>3/12/2014</td>\n",
              "      <td>Mortgage</td>\n",
              "      <td>Other mortgage</td>\n",
              "      <td>Loan modification,collection,foreclosure</td>\n",
              "      <td>NaN</td>\n",
              "      <td>NaN</td>\n",
              "      <td>NaN</td>\n",
              "      <td>M&amp;T BANK CORPORATION</td>\n",
              "      <td>MI</td>\n",
              "      <td>48382</td>\n",
              "      <td>NaN</td>\n",
              "      <td>NaN</td>\n",
              "      <td>Referral</td>\n",
              "      <td>3/17/2014</td>\n",
              "      <td>Closed with explanation</td>\n",
              "      <td>Yes</td>\n",
              "      <td>No</td>\n",
              "      <td>759217</td>\n",
              "    </tr>\n",
              "    <tr>\n",
              "      <th>1</th>\n",
              "      <td>10/1/2016</td>\n",
              "      <td>Credit reporting</td>\n",
              "      <td>NaN</td>\n",
              "      <td>Incorrect information on credit report</td>\n",
              "      <td>Account status</td>\n",
              "      <td>I have outdated information on my credit repor...</td>\n",
              "      <td>Company has responded to the consumer and the ...</td>\n",
              "      <td>TRANSUNION INTERMEDIATE HOLDINGS, INC.</td>\n",
              "      <td>AL</td>\n",
              "      <td>352XX</td>\n",
              "      <td>NaN</td>\n",
              "      <td>Consent provided</td>\n",
              "      <td>Web</td>\n",
              "      <td>10/5/2016</td>\n",
              "      <td>Closed with explanation</td>\n",
              "      <td>Yes</td>\n",
              "      <td>No</td>\n",
              "      <td>2141773</td>\n",
              "    </tr>\n",
              "    <tr>\n",
              "      <th>2</th>\n",
              "      <td>10/17/2016</td>\n",
              "      <td>Consumer Loan</td>\n",
              "      <td>Vehicle loan</td>\n",
              "      <td>Managing the loan or lease</td>\n",
              "      <td>NaN</td>\n",
              "      <td>I purchased a new car on XXXX XXXX. The car de...</td>\n",
              "      <td>NaN</td>\n",
              "      <td>CITIZENS FINANCIAL GROUP, INC.</td>\n",
              "      <td>PA</td>\n",
              "      <td>177XX</td>\n",
              "      <td>Older American</td>\n",
              "      <td>Consent provided</td>\n",
              "      <td>Web</td>\n",
              "      <td>10/20/2016</td>\n",
              "      <td>Closed with explanation</td>\n",
              "      <td>Yes</td>\n",
              "      <td>No</td>\n",
              "      <td>2163100</td>\n",
              "    </tr>\n",
              "    <tr>\n",
              "      <th>3</th>\n",
              "      <td>6/8/2014</td>\n",
              "      <td>Credit card</td>\n",
              "      <td>NaN</td>\n",
              "      <td>Bankruptcy</td>\n",
              "      <td>NaN</td>\n",
              "      <td>NaN</td>\n",
              "      <td>NaN</td>\n",
              "      <td>AMERICAN EXPRESS COMPANY</td>\n",
              "      <td>ID</td>\n",
              "      <td>83854</td>\n",
              "      <td>Older American</td>\n",
              "      <td>NaN</td>\n",
              "      <td>Web</td>\n",
              "      <td>6/10/2014</td>\n",
              "      <td>Closed with explanation</td>\n",
              "      <td>Yes</td>\n",
              "      <td>Yes</td>\n",
              "      <td>885638</td>\n",
              "    </tr>\n",
              "    <tr>\n",
              "      <th>4</th>\n",
              "      <td>9/13/2014</td>\n",
              "      <td>Debt collection</td>\n",
              "      <td>Credit card</td>\n",
              "      <td>Communication tactics</td>\n",
              "      <td>Frequent or repeated calls</td>\n",
              "      <td>NaN</td>\n",
              "      <td>NaN</td>\n",
              "      <td>CITIBANK, N.A.</td>\n",
              "      <td>VA</td>\n",
              "      <td>23233</td>\n",
              "      <td>NaN</td>\n",
              "      <td>NaN</td>\n",
              "      <td>Web</td>\n",
              "      <td>9/13/2014</td>\n",
              "      <td>Closed with explanation</td>\n",
              "      <td>Yes</td>\n",
              "      <td>Yes</td>\n",
              "      <td>1027760</td>\n",
              "    </tr>\n",
              "  </tbody>\n",
              "</table>\n",
              "</div>"
            ],
            "text/plain": [
              "  Date received           Product  ... Consumer disputed? Complaint ID\n",
              "0     3/12/2014          Mortgage  ...                 No       759217\n",
              "1     10/1/2016  Credit reporting  ...                 No      2141773\n",
              "2    10/17/2016     Consumer Loan  ...                 No      2163100\n",
              "3      6/8/2014       Credit card  ...                Yes       885638\n",
              "4     9/13/2014   Debt collection  ...                Yes      1027760\n",
              "\n",
              "[5 rows x 18 columns]"
            ]
          },
          "metadata": {
            "tags": []
          },
          "execution_count": 3
        }
      ]
    },
    {
      "cell_type": "code",
      "metadata": {
        "id": "g9x2sF5rdjUU",
        "colab_type": "code",
        "colab": {}
      },
      "source": [
        "df=df[[\"Consumer complaint narrative\",\"Product\"]]"
      ],
      "execution_count": 0,
      "outputs": []
    },
    {
      "cell_type": "code",
      "metadata": {
        "id": "dykSJ8BmdsuA",
        "colab_type": "code",
        "colab": {}
      },
      "source": [
        "df=df.dropna()"
      ],
      "execution_count": 0,
      "outputs": []
    },
    {
      "cell_type": "code",
      "metadata": {
        "id": "feKVl__B0rGm",
        "colab_type": "code",
        "colab": {
          "base_uri": "https://localhost:8080/",
          "height": 366
        },
        "outputId": "3dc8d4ce-ac1e-4619-ceff-c754f86db5e0"
      },
      "source": [
        "df[\"Product\"].value_counts()"
      ],
      "execution_count": 6,
      "outputs": [
        {
          "output_type": "execute_result",
          "data": {
            "text/plain": [
              "Debt collection                                                                 47915\n",
              "Mortgage                                                                        36582\n",
              "Credit reporting                                                                31592\n",
              "Credit card                                                                     18842\n",
              "Bank account or service                                                         14888\n",
              "Credit reporting, credit repair services, or other personal consumer reports    14671\n",
              "Student loan                                                                    13304\n",
              "Consumer Loan                                                                    9474\n",
              "Credit card or prepaid card                                                      3355\n",
              "Checking or savings account                                                      2142\n",
              "Payday loan                                                                      1748\n",
              "Money transfers                                                                  1496\n",
              "Prepaid card                                                                     1451\n",
              "Vehicle loan or lease                                                             821\n",
              "Payday loan, title loan, or personal loan                                         697\n",
              "Money transfer, virtual currency, or money service                                684\n",
              "Other financial service                                                           292\n",
              "Virtual currency                                                                   16\n",
              "Name: Product, dtype: int64"
            ]
          },
          "metadata": {
            "tags": []
          },
          "execution_count": 6
        }
      ]
    },
    {
      "cell_type": "code",
      "metadata": {
        "id": "1ZK9mEj20rER",
        "colab_type": "code",
        "colab": {}
      },
      "source": [
        "df[\"Product\"]=df[\"Product\"].replace(\"Credit reporting\",\"Credit reporting, credit repair services, or other personal consumer reports\")"
      ],
      "execution_count": 0,
      "outputs": []
    },
    {
      "cell_type": "code",
      "metadata": {
        "id": "FSjXSjBe1cXJ",
        "colab_type": "code",
        "colab": {}
      },
      "source": [
        "df[\"Product\"]=df[\"Product\"].replace(\"Credit card\",\"Credit card or prepaid card\")"
      ],
      "execution_count": 0,
      "outputs": []
    },
    {
      "cell_type": "code",
      "metadata": {
        "id": "hBo9YSe12DSa",
        "colab_type": "code",
        "colab": {}
      },
      "source": [
        "df[\"Product\"]=df[\"Product\"].replace(\"Prepaid card\",\"Credit card or prepaid card\")\n",
        "df[\"Product\"]=df[\"Product\"].replace(\"Virtual currency\",\"Money transfer, virtual currency, or money service\")"
      ],
      "execution_count": 0,
      "outputs": []
    },
    {
      "cell_type": "code",
      "metadata": {
        "id": "u6M6HfKq2DfX",
        "colab_type": "code",
        "colab": {}
      },
      "source": [
        "df[\"Product\"]=df[\"Product\"].replace(\"Payday loan\",\"Payday loan, title loan, or personal loan\")"
      ],
      "execution_count": 0,
      "outputs": []
    },
    {
      "cell_type": "code",
      "metadata": {
        "id": "y1pWh0r43IGL",
        "colab_type": "code",
        "colab": {}
      },
      "source": [
        "df[\"Product\"]=df[\"Product\"].replace(\"Money transfers\",\"Money transfer, virtual currency, or money service\")"
      ],
      "execution_count": 0,
      "outputs": []
    },
    {
      "cell_type": "code",
      "metadata": {
        "id": "2FMMK7wI1cbs",
        "colab_type": "code",
        "colab": {
          "base_uri": "https://localhost:8080/",
          "height": 256
        },
        "outputId": "c93dc036-cbf7-4d41-9411-845966dedd4c"
      },
      "source": [
        "df[\"Product\"].value_counts()"
      ],
      "execution_count": 12,
      "outputs": [
        {
          "output_type": "execute_result",
          "data": {
            "text/plain": [
              "Debt collection                                                                 47915\n",
              "Credit reporting, credit repair services, or other personal consumer reports    46263\n",
              "Mortgage                                                                        36582\n",
              "Credit card or prepaid card                                                     23648\n",
              "Bank account or service                                                         14888\n",
              "Student loan                                                                    13304\n",
              "Consumer Loan                                                                    9474\n",
              "Payday loan, title loan, or personal loan                                        2445\n",
              "Money transfer, virtual currency, or money service                               2196\n",
              "Checking or savings account                                                      2142\n",
              "Vehicle loan or lease                                                             821\n",
              "Other financial service                                                           292\n",
              "Name: Product, dtype: int64"
            ]
          },
          "metadata": {
            "tags": []
          },
          "execution_count": 12
        }
      ]
    },
    {
      "cell_type": "code",
      "metadata": {
        "id": "nug6rJEulWYy",
        "colab_type": "code",
        "colab": {}
      },
      "source": [
        "le=LabelEncoder()"
      ],
      "execution_count": 0,
      "outputs": []
    },
    {
      "cell_type": "code",
      "metadata": {
        "id": "6X5IhEuFlWc1",
        "colab_type": "code",
        "colab": {}
      },
      "source": [
        "df[\"Product\"]=le.fit_transform(df[\"Product\"])"
      ],
      "execution_count": 0,
      "outputs": []
    },
    {
      "cell_type": "code",
      "metadata": {
        "id": "fmLfkGhmlvh6",
        "colab_type": "code",
        "outputId": "96d915e0-ef6a-4f39-89d7-04bd605d6953",
        "colab": {
          "base_uri": "https://localhost:8080/",
          "height": 206
        }
      },
      "source": [
        "df.head()"
      ],
      "execution_count": 15,
      "outputs": [
        {
          "output_type": "execute_result",
          "data": {
            "text/html": [
              "<div>\n",
              "<style scoped>\n",
              "    .dataframe tbody tr th:only-of-type {\n",
              "        vertical-align: middle;\n",
              "    }\n",
              "\n",
              "    .dataframe tbody tr th {\n",
              "        vertical-align: top;\n",
              "    }\n",
              "\n",
              "    .dataframe thead th {\n",
              "        text-align: right;\n",
              "    }\n",
              "</style>\n",
              "<table border=\"1\" class=\"dataframe\">\n",
              "  <thead>\n",
              "    <tr style=\"text-align: right;\">\n",
              "      <th></th>\n",
              "      <th>Consumer complaint narrative</th>\n",
              "      <th>Product</th>\n",
              "    </tr>\n",
              "  </thead>\n",
              "  <tbody>\n",
              "    <tr>\n",
              "      <th>1</th>\n",
              "      <td>I have outdated information on my credit repor...</td>\n",
              "      <td>4</td>\n",
              "    </tr>\n",
              "    <tr>\n",
              "      <th>2</th>\n",
              "      <td>I purchased a new car on XXXX XXXX. The car de...</td>\n",
              "      <td>2</td>\n",
              "    </tr>\n",
              "    <tr>\n",
              "      <th>7</th>\n",
              "      <td>An account on my credit report has a mistaken ...</td>\n",
              "      <td>4</td>\n",
              "    </tr>\n",
              "    <tr>\n",
              "      <th>12</th>\n",
              "      <td>This company refuses to provide me verificatio...</td>\n",
              "      <td>5</td>\n",
              "    </tr>\n",
              "    <tr>\n",
              "      <th>16</th>\n",
              "      <td>This complaint is in regards to Square Two Fin...</td>\n",
              "      <td>5</td>\n",
              "    </tr>\n",
              "  </tbody>\n",
              "</table>\n",
              "</div>"
            ],
            "text/plain": [
              "                         Consumer complaint narrative  Product\n",
              "1   I have outdated information on my credit repor...        4\n",
              "2   I purchased a new car on XXXX XXXX. The car de...        2\n",
              "7   An account on my credit report has a mistaken ...        4\n",
              "12  This company refuses to provide me verificatio...        5\n",
              "16  This complaint is in regards to Square Two Fin...        5"
            ]
          },
          "metadata": {
            "tags": []
          },
          "execution_count": 15
        }
      ]
    },
    {
      "cell_type": "code",
      "metadata": {
        "id": "fwdxp47Ep3KR",
        "colab_type": "code",
        "outputId": "f8beef93-8781-463e-a328-64ae5a5934fd",
        "colab": {
          "base_uri": "https://localhost:8080/",
          "height": 54
        }
      },
      "source": [
        "import nltk\n",
        "nltk.download('stopwords')\n",
        "from nltk.corpus import stopwords\n",
        "from string import punctuation\n",
        "stuff_to_be_removed = list(stopwords.words(\"english\"))+list(punctuation)\n",
        "from nltk.tokenize import word_tokenize\n",
        "from nltk.stem.lancaster import LancasterStemmer\n",
        "from nltk.stem import WordNetLemmatizer"
      ],
      "execution_count": 16,
      "outputs": [
        {
          "output_type": "stream",
          "text": [
            "[nltk_data] Downloading package stopwords to /root/nltk_data...\n",
            "[nltk_data]   Unzipping corpora/stopwords.zip.\n"
          ],
          "name": "stdout"
        }
      ]
    },
    {
      "cell_type": "code",
      "metadata": {
        "id": "YWgV8nJKqFBg",
        "colab_type": "code",
        "colab": {}
      },
      "source": [
        "lancaster_stemmer = LancasterStemmer()\n",
        "stemmer = LancasterStemmer()"
      ],
      "execution_count": 0,
      "outputs": []
    },
    {
      "cell_type": "code",
      "metadata": {
        "id": "vop-qLOOgHtp",
        "colab_type": "code",
        "colab": {}
      },
      "source": [
        "data=df[\"Consumer complaint narrative\"].tolist()"
      ],
      "execution_count": 0,
      "outputs": []
    },
    {
      "cell_type": "code",
      "metadata": {
        "id": "LaGJMkH0kzZH",
        "colab_type": "code",
        "outputId": "2aeb4f65-3961-4bd5-be93-a7976b0620f2",
        "colab": {
          "base_uri": "https://localhost:8080/",
          "height": 54
        }
      },
      "source": [
        "import nltk\n",
        "nltk.download('punkt')\n",
        "final_corpus=[]\n",
        "for i in range(len(data)):\n",
        "    text=word_tokenize(data[i].lower())\n",
        "    text = [t for t in text if len(t)>3]\n",
        "    text=[lancaster_stemmer.stem(w) for w in text if w not in stuff_to_be_removed]\n",
        "    sent=\" \".join(text)\n",
        "    final_corpus.append(sent)"
      ],
      "execution_count": 19,
      "outputs": [
        {
          "output_type": "stream",
          "text": [
            "[nltk_data] Downloading package punkt to /root/nltk_data...\n",
            "[nltk_data]   Unzipping tokenizers/punkt.zip.\n"
          ],
          "name": "stdout"
        }
      ]
    },
    {
      "cell_type": "code",
      "metadata": {
        "id": "jB3jMvW5k4Fg",
        "colab_type": "code",
        "colab": {}
      },
      "source": [
        "new_df=pd.DataFrame(final_corpus,columns=[\"sentence\"])"
      ],
      "execution_count": 0,
      "outputs": []
    },
    {
      "cell_type": "code",
      "metadata": {
        "id": "o9z-N-rfn3U_",
        "colab_type": "code",
        "colab": {}
      },
      "source": [
        "labels=df[\"Product\"].tolist()"
      ],
      "execution_count": 0,
      "outputs": []
    },
    {
      "cell_type": "code",
      "metadata": {
        "id": "fJt96XF0n5Ek",
        "colab_type": "code",
        "colab": {}
      },
      "source": [
        "new_df[\"Product\"]=labels"
      ],
      "execution_count": 0,
      "outputs": []
    },
    {
      "cell_type": "code",
      "metadata": {
        "id": "08BJYK6yoM0e",
        "colab_type": "code",
        "colab": {}
      },
      "source": [
        "from sklearn.feature_extraction.text import CountVectorizer,TfidfVectorizer"
      ],
      "execution_count": 0,
      "outputs": []
    },
    {
      "cell_type": "code",
      "metadata": {
        "id": "TMYMRlf8o2RE",
        "colab_type": "code",
        "colab": {}
      },
      "source": [
        "tfidf=TfidfVectorizer(stop_words='english')"
      ],
      "execution_count": 0,
      "outputs": []
    },
    {
      "cell_type": "code",
      "metadata": {
        "id": "h1VvrytbpPNy",
        "colab_type": "code",
        "colab": {}
      },
      "source": [
        "vector=tfidf.fit_transform(new_df[\"sentence\"])"
      ],
      "execution_count": 0,
      "outputs": []
    },
    {
      "cell_type": "code",
      "metadata": {
        "id": "-MRbatd8pSC0",
        "colab_type": "code",
        "colab": {}
      },
      "source": [
        "X=vector\n",
        "y=new_df[\"Product\"]"
      ],
      "execution_count": 0,
      "outputs": []
    },
    {
      "cell_type": "code",
      "metadata": {
        "id": "w47oKZMOpaSX",
        "colab_type": "code",
        "colab": {}
      },
      "source": [
        "from sklearn.model_selection import train_test_split as tts\n",
        "X_train,X_test,y_train,y_test=tts(X,y,test_size=0.25,random_state=0)"
      ],
      "execution_count": 0,
      "outputs": []
    },
    {
      "cell_type": "code",
      "metadata": {
        "id": "66Ff43ipwO3G",
        "colab_type": "code",
        "colab": {
          "base_uri": "https://localhost:8080/",
          "height": 74
        },
        "outputId": "ae002a27-c3f9-4d1d-c36f-99e4db8c3d6e"
      },
      "source": [
        "from sklearn.naive_bayes import GaussianNB,MultinomialNB\n",
        "from sklearn.ensemble import RandomForestClassifier\n",
        "from imblearn.over_sampling import SMOTE"
      ],
      "execution_count": 28,
      "outputs": [
        {
          "output_type": "stream",
          "text": [
            "/usr/local/lib/python3.6/dist-packages/sklearn/externals/six.py:31: DeprecationWarning: The module is deprecated in version 0.21 and will be removed in version 0.23 since we've dropped support for Python 2.7. Please rely on the official version of six (https://pypi.org/project/six/).\n",
            "  \"(https://pypi.org/project/six/).\", DeprecationWarning)\n"
          ],
          "name": "stderr"
        }
      ]
    },
    {
      "cell_type": "code",
      "metadata": {
        "id": "9v8XnFWzv4wG",
        "colab_type": "code",
        "colab": {}
      },
      "source": [
        "sm=SMOTE(random_state=0)"
      ],
      "execution_count": 0,
      "outputs": []
    },
    {
      "cell_type": "code",
      "metadata": {
        "id": "2utJnCyEv44G",
        "colab_type": "code",
        "colab": {}
      },
      "source": [
        "X_train,y_train=sm.fit_sample(X_train,y_train)"
      ],
      "execution_count": 0,
      "outputs": []
    },
    {
      "cell_type": "code",
      "metadata": {
        "id": "z4pHewN2wYr4",
        "colab_type": "code",
        "colab": {}
      },
      "source": [
        "nb=MultinomialNB()"
      ],
      "execution_count": 0,
      "outputs": []
    },
    {
      "cell_type": "code",
      "metadata": {
        "id": "SsUci7b0wcUF",
        "colab_type": "code",
        "outputId": "39c89acc-0826-45f8-cdd8-24a58e306620",
        "colab": {
          "base_uri": "https://localhost:8080/",
          "height": 35
        }
      },
      "source": [
        "nb.fit(X_train,y_train)"
      ],
      "execution_count": 32,
      "outputs": [
        {
          "output_type": "execute_result",
          "data": {
            "text/plain": [
              "MultinomialNB(alpha=1.0, class_prior=None, fit_prior=True)"
            ]
          },
          "metadata": {
            "tags": []
          },
          "execution_count": 32
        }
      ]
    },
    {
      "cell_type": "code",
      "metadata": {
        "id": "7SIA_d-UwgCV",
        "colab_type": "code",
        "colab": {}
      },
      "source": [
        "y_pred=nb.predict(X_test)"
      ],
      "execution_count": 0,
      "outputs": []
    },
    {
      "cell_type": "code",
      "metadata": {
        "id": "1VRLNwZLwjv-",
        "colab_type": "code",
        "colab": {}
      },
      "source": [
        "from sklearn.metrics import accuracy_score,classification_report"
      ],
      "execution_count": 0,
      "outputs": []
    },
    {
      "cell_type": "code",
      "metadata": {
        "id": "dAMxddypwu8r",
        "colab_type": "code",
        "outputId": "5ae8cee2-a567-4b68-dcb2-62a68c01d808",
        "colab": {
          "base_uri": "https://localhost:8080/",
          "height": 35
        }
      },
      "source": [
        "accuracy_score(y_test,y_pred)"
      ],
      "execution_count": 35,
      "outputs": [
        {
          "output_type": "execute_result",
          "data": {
            "text/plain": [
              "0.7619266697337628"
            ]
          },
          "metadata": {
            "tags": []
          },
          "execution_count": 35
        }
      ]
    },
    {
      "cell_type": "code",
      "metadata": {
        "id": "jnreCCTiwxYM",
        "colab_type": "code",
        "outputId": "a86b01ff-8f75-4f88-93a7-b5feb6444a96",
        "colab": {
          "base_uri": "https://localhost:8080/",
          "height": 366
        }
      },
      "source": [
        "print(classification_report(y_test,y_pred))"
      ],
      "execution_count": 36,
      "outputs": [
        {
          "output_type": "stream",
          "text": [
            "              precision    recall  f1-score   support\n",
            "\n",
            "           0       0.69      0.60      0.64      3776\n",
            "           1       0.20      0.49      0.28       529\n",
            "           2       0.51      0.46      0.48      2403\n",
            "           3       0.76      0.74      0.75      5781\n",
            "           4       0.84      0.80      0.82     11531\n",
            "           5       0.86      0.72      0.79     12071\n",
            "           6       0.55      0.76      0.64       571\n",
            "           7       0.90      0.91      0.91      9105\n",
            "           8       0.05      0.23      0.08        73\n",
            "           9       0.28      0.67      0.39       603\n",
            "          10       0.80      0.89      0.84      3333\n",
            "          11       0.09      0.39      0.15       217\n",
            "\n",
            "    accuracy                           0.76     49993\n",
            "   macro avg       0.54      0.64      0.56     49993\n",
            "weighted avg       0.80      0.76      0.77     49993\n",
            "\n"
          ],
          "name": "stdout"
        }
      ]
    },
    {
      "cell_type": "code",
      "metadata": {
        "id": "9uiVabMdw0rC",
        "colab_type": "code",
        "colab": {}
      },
      "source": [
        "rfc=RandomForestClassifier(criterion='gini',max_depth=63,random_state=0)"
      ],
      "execution_count": 0,
      "outputs": []
    },
    {
      "cell_type": "code",
      "metadata": {
        "id": "6F_1Pv6nxP60",
        "colab_type": "code",
        "outputId": "2d0dd20f-3960-4b68-cc92-a368eaa4012d",
        "colab": {
          "base_uri": "https://localhost:8080/",
          "height": 202
        }
      },
      "source": [
        "rfc.fit(X_train,y_train)"
      ],
      "execution_count": 38,
      "outputs": [
        {
          "output_type": "stream",
          "text": [
            "/usr/local/lib/python3.6/dist-packages/sklearn/ensemble/forest.py:245: FutureWarning: The default value of n_estimators will change from 10 in version 0.20 to 100 in 0.22.\n",
            "  \"10 in version 0.20 to 100 in 0.22.\", FutureWarning)\n"
          ],
          "name": "stderr"
        },
        {
          "output_type": "execute_result",
          "data": {
            "text/plain": [
              "RandomForestClassifier(bootstrap=True, class_weight=None, criterion='gini',\n",
              "                       max_depth=63, max_features='auto', max_leaf_nodes=None,\n",
              "                       min_impurity_decrease=0.0, min_impurity_split=None,\n",
              "                       min_samples_leaf=1, min_samples_split=2,\n",
              "                       min_weight_fraction_leaf=0.0, n_estimators=10,\n",
              "                       n_jobs=None, oob_score=False, random_state=0, verbose=0,\n",
              "                       warm_start=False)"
            ]
          },
          "metadata": {
            "tags": []
          },
          "execution_count": 38
        }
      ]
    },
    {
      "cell_type": "code",
      "metadata": {
        "id": "nShJu2RExSRy",
        "colab_type": "code",
        "colab": {}
      },
      "source": [
        "y_pred_rfc=rfc.predict(X_test)"
      ],
      "execution_count": 0,
      "outputs": []
    },
    {
      "cell_type": "code",
      "metadata": {
        "id": "yjJjvS4uxxlu",
        "colab_type": "code",
        "outputId": "4feea37c-6a83-4f03-eda6-9b711076d089",
        "colab": {
          "base_uri": "https://localhost:8080/",
          "height": 35
        }
      },
      "source": [
        "accuracy_score(y_test,y_pred_rfc)"
      ],
      "execution_count": 40,
      "outputs": [
        {
          "output_type": "execute_result",
          "data": {
            "text/plain": [
              "0.717940511671634"
            ]
          },
          "metadata": {
            "tags": []
          },
          "execution_count": 40
        }
      ]
    },
    {
      "cell_type": "code",
      "metadata": {
        "id": "ann9mbaKx59q",
        "colab_type": "code",
        "outputId": "66348096-1d9e-4454-f351-20fc085e6df8",
        "colab": {
          "base_uri": "https://localhost:8080/",
          "height": 366
        }
      },
      "source": [
        "print(classification_report(y_test,y_pred_rfc))"
      ],
      "execution_count": 41,
      "outputs": [
        {
          "output_type": "stream",
          "text": [
            "              precision    recall  f1-score   support\n",
            "\n",
            "           0       0.60      0.58      0.59      3776\n",
            "           1       0.19      0.13      0.16       529\n",
            "           2       0.43      0.35      0.39      2403\n",
            "           3       0.62      0.60      0.61      5781\n",
            "           4       0.76      0.84      0.80     11531\n",
            "           5       0.74      0.75      0.74     12071\n",
            "           6       0.49      0.42      0.45       571\n",
            "           7       0.84      0.83      0.84      9105\n",
            "           8       0.31      0.05      0.09        73\n",
            "           9       0.29      0.29      0.29       603\n",
            "          10       0.77      0.79      0.78      3333\n",
            "          11       0.18      0.04      0.07       217\n",
            "\n",
            "    accuracy                           0.72     49993\n",
            "   macro avg       0.52      0.47      0.48     49993\n",
            "weighted avg       0.71      0.72      0.71     49993\n",
            "\n"
          ],
          "name": "stdout"
        }
      ]
    },
    {
      "cell_type": "code",
      "metadata": {
        "id": "LtbZ9FwgqWXW",
        "colab_type": "code",
        "colab": {}
      },
      "source": [
        "import pandas as pd\n",
        "df = pd.DataFrame()\n",
        "df['text'] = final_corpus"
      ],
      "execution_count": 0,
      "outputs": []
    },
    {
      "cell_type": "code",
      "metadata": {
        "id": "8pfNwF7K3Pdp",
        "colab_type": "code",
        "colab": {
          "base_uri": "https://localhost:8080/",
          "height": 90
        },
        "outputId": "7a2eb7f4-db99-4ef8-c7b8-6f0f88bf97d8"
      },
      "source": [
        "df[\"text\"].head(3)"
      ],
      "execution_count": 121,
      "outputs": [
        {
          "output_type": "execute_result",
          "data": {
            "text/plain": [
              "0    outd inform credit report prevy disput remov i...\n",
              "1    purchas xxxx xxxx deal cal cit bank payoff loa...\n",
              "2    account credit report mistak dat mail debt val...\n",
              "Name: text, dtype: object"
            ]
          },
          "metadata": {
            "tags": []
          },
          "execution_count": 121
        }
      ]
    },
    {
      "cell_type": "code",
      "metadata": {
        "id": "WbQ7SBTJsbDX",
        "colab_type": "code",
        "colab": {}
      },
      "source": [
        "from sklearn.feature_extraction.text import TfidfVectorizer\n",
        "tfidf = TfidfVectorizer()\n",
        "vector = tfidf.fit_transform(df['text'].head(3))\n",
        "X = vector"
      ],
      "execution_count": 0,
      "outputs": []
    },
    {
      "cell_type": "code",
      "metadata": {
        "id": "T1ZPDUzrsj6u",
        "colab_type": "code",
        "colab": {}
      },
      "source": [
        "from sklearn.decomposition import TruncatedSVD\n",
        "lsa=TruncatedSVD(n_components=5,n_iter=100)"
      ],
      "execution_count": 0,
      "outputs": []
    },
    {
      "cell_type": "code",
      "metadata": {
        "id": "IkSYwAausrCC",
        "colab_type": "code",
        "colab": {
          "base_uri": "https://localhost:8080/",
          "height": 54
        },
        "outputId": "d7b247a5-89c4-4c36-c400-647191442b62"
      },
      "source": [
        "lsa.fit(X)"
      ],
      "execution_count": 81,
      "outputs": [
        {
          "output_type": "execute_result",
          "data": {
            "text/plain": [
              "TruncatedSVD(algorithm='randomized', n_components=5, n_iter=100,\n",
              "             random_state=None, tol=0.0)"
            ]
          },
          "metadata": {
            "tags": []
          },
          "execution_count": 81
        }
      ]
    },
    {
      "cell_type": "code",
      "metadata": {
        "id": "U_0lRB8Bs2Ga",
        "colab_type": "code",
        "colab": {
          "base_uri": "https://localhost:8080/",
          "height": 348
        },
        "outputId": "26ee786e-0e47-45c3-85e0-25ff22e115fb"
      },
      "source": [
        "for i in range(0,3):\n",
        "    ranking_topic=lsa.components_[i].tolist()\n",
        "    words=tfidf.get_feature_names()\n",
        "    df=pd.DataFrame(list(zip(words,ranking_topic)),columns=[\"Words\",\"Ranking\"])\n",
        "    print(df.sort_values([\"Ranking\"],ascending=False).head(5))"
      ],
      "execution_count": 117,
      "outputs": [
        {
          "output_type": "stream",
          "text": [
            "      Words   Ranking\n",
            "65      let  0.415798\n",
            "136    xxxx  0.381975\n",
            "42      exp  0.240253\n",
            "60   inform  0.209668\n",
            "98   report  0.209668\n",
            "      Words   Ranking\n",
            "26   credit  0.313333\n",
            "60   inform  0.313333\n",
            "98   report  0.313333\n",
            "107     sev  0.206270\n",
            "97    remov  0.206270\n",
            "       Words   Ranking\n",
            "65       let  0.456764\n",
            "42       exp  0.282460\n",
            "99    repres  0.169476\n",
            "70      mail  0.113055\n",
            "117  suspicy  0.112984\n"
          ],
          "name": "stdout"
        }
      ]
    },
    {
      "cell_type": "code",
      "metadata": {
        "id": "zaGuYVBx4H6V",
        "colab_type": "code",
        "colab": {}
      },
      "source": [
        "new_final_corpus=[]\n",
        "for i in range(len(data)):\n",
        "    text=word_tokenize(data[i].lower())\n",
        "    text = [t for t in text if len(t)>3]\n",
        "    text=\" \".join(lancaster_stemmer.stem(w) for w in text if w not in stuff_to_be_removed)\n",
        "    new_final_corpus.append(text)"
      ],
      "execution_count": 0,
      "outputs": []
    },
    {
      "cell_type": "code",
      "metadata": {
        "id": "Pu5YwL5tEkek",
        "colab_type": "code",
        "colab": {}
      },
      "source": [
        "import pandas as pd\n",
        "df_lda = pd.DataFrame()\n",
        "df_lda['text'] = new_final_corpus"
      ],
      "execution_count": 0,
      "outputs": []
    },
    {
      "cell_type": "code",
      "metadata": {
        "id": "Yq08oRCJHHr6",
        "colab_type": "code",
        "colab": {}
      },
      "source": [
        "from sklearn.feature_extraction.text import TfidfVectorizer\n",
        "tfidf = TfidfVectorizer()\n",
        "vector = tfidf.fit_transform(df_lda['text'].head(3))\n",
        "X = vector"
      ],
      "execution_count": 0,
      "outputs": []
    },
    {
      "cell_type": "code",
      "metadata": {
        "id": "yUCZZiHZJlqe",
        "colab_type": "code",
        "colab": {}
      },
      "source": [
        "from sklearn.decomposition import LatentDirichletAllocation as LDA\n",
        "lda=LDA(n_components=3)"
      ],
      "execution_count": 0,
      "outputs": []
    },
    {
      "cell_type": "code",
      "metadata": {
        "id": "gQWyEsaqNCW_",
        "colab_type": "code",
        "colab": {
          "base_uri": "https://localhost:8080/",
          "height": 164
        },
        "outputId": "b55a4d85-9bc8-4a0e-e379-d43fb1ffcced"
      },
      "source": [
        "lda.fit(X)"
      ],
      "execution_count": 102,
      "outputs": [
        {
          "output_type": "execute_result",
          "data": {
            "text/plain": [
              "LatentDirichletAllocation(batch_size=128, doc_topic_prior=None,\n",
              "                          evaluate_every=-1, learning_decay=0.7,\n",
              "                          learning_method='batch', learning_offset=10.0,\n",
              "                          max_doc_update_iter=100, max_iter=10,\n",
              "                          mean_change_tol=0.001, n_components=3, n_jobs=None,\n",
              "                          perp_tol=0.1, random_state=None,\n",
              "                          topic_word_prior=None, total_samples=1000000.0,\n",
              "                          verbose=0)"
            ]
          },
          "metadata": {
            "tags": []
          },
          "execution_count": 102
        }
      ]
    },
    {
      "cell_type": "code",
      "metadata": {
        "id": "VRpRSU0MNv48",
        "colab_type": "code",
        "colab": {}
      },
      "source": [
        "def display_topics(model, feature_names, no_top_words):\n",
        "    for topic_idx, topic in enumerate(model.components_):\n",
        "        print (\"Topic %d:\" % (topic_idx))\n",
        "        print(\" \".join([feature_names[i] for i in topic.argsort()[:-no_top_words - 1:-1]]))"
      ],
      "execution_count": 0,
      "outputs": []
    },
    {
      "cell_type": "code",
      "metadata": {
        "id": "Qd3vTNu6OHyx",
        "colab_type": "code",
        "colab": {
          "base_uri": "https://localhost:8080/",
          "height": 127
        },
        "outputId": "0530bade-23b0-4cee-e50c-393c79f61195"
      },
      "source": [
        "display_topics(lda,tfidf.get_feature_names(),5)"
      ],
      "execution_count": 118,
      "outputs": [
        {
          "output_type": "stream",
          "text": [
            "Topic 0:\n",
            "xxxx report inform credit check\n",
            "Topic 1:\n",
            "let exp repres receiv mail\n",
            "Topic 2:\n",
            "disput report credit inform receiv\n"
          ],
          "name": "stdout"
        }
      ]
    },
    {
      "cell_type": "code",
      "metadata": {
        "id": "ToK2cnQzQUAN",
        "colab_type": "code",
        "colab": {
          "base_uri": "https://localhost:8080/",
          "height": 206
        },
        "outputId": "68204462-d1c9-4443-c2bc-c2a027e450c7"
      },
      "source": [
        "df_lda.head()"
      ],
      "execution_count": 119,
      "outputs": [
        {
          "output_type": "execute_result",
          "data": {
            "text/html": [
              "<div>\n",
              "<style scoped>\n",
              "    .dataframe tbody tr th:only-of-type {\n",
              "        vertical-align: middle;\n",
              "    }\n",
              "\n",
              "    .dataframe tbody tr th {\n",
              "        vertical-align: top;\n",
              "    }\n",
              "\n",
              "    .dataframe thead th {\n",
              "        text-align: right;\n",
              "    }\n",
              "</style>\n",
              "<table border=\"1\" class=\"dataframe\">\n",
              "  <thead>\n",
              "    <tr style=\"text-align: right;\">\n",
              "      <th></th>\n",
              "      <th>text</th>\n",
              "    </tr>\n",
              "  </thead>\n",
              "  <tbody>\n",
              "    <tr>\n",
              "      <th>0</th>\n",
              "      <td>outd inform credit report prevy disput remov i...</td>\n",
              "    </tr>\n",
              "    <tr>\n",
              "      <th>1</th>\n",
              "      <td>purchas xxxx xxxx deal cal cit bank payoff loa...</td>\n",
              "    </tr>\n",
              "    <tr>\n",
              "      <th>2</th>\n",
              "      <td>account credit report mistak dat mail debt val...</td>\n",
              "    </tr>\n",
              "    <tr>\n",
              "      <th>3</th>\n",
              "      <td>company refus provid ver valid debt right fdcp...</td>\n",
              "    </tr>\n",
              "    <tr>\n",
              "      <th>4</th>\n",
              "      <td>complaint regard squ fin ref cfpb cas numb xxx...</td>\n",
              "    </tr>\n",
              "  </tbody>\n",
              "</table>\n",
              "</div>"
            ],
            "text/plain": [
              "                                                text\n",
              "0  outd inform credit report prevy disput remov i...\n",
              "1  purchas xxxx xxxx deal cal cit bank payoff loa...\n",
              "2  account credit report mistak dat mail debt val...\n",
              "3  company refus provid ver valid debt right fdcp...\n",
              "4  complaint regard squ fin ref cfpb cas numb xxx..."
            ]
          },
          "metadata": {
            "tags": []
          },
          "execution_count": 119
        }
      ]
    },
    {
      "cell_type": "code",
      "metadata": {
        "id": "ebPWgyDgRcSx",
        "colab_type": "code",
        "colab": {}
      },
      "source": [
        ""
      ],
      "execution_count": 0,
      "outputs": []
    }
  ]
}