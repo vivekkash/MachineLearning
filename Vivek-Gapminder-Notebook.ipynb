{
 "cells": [
  {
   "cell_type": "markdown",
   "metadata": {},
   "source": [
    "1. KNN Regression: y column is life, X column is everything else. Please include in comments on whether the Region column needs to be one hot encoded or label encoded and why"
   ]
  },
  {
   "cell_type": "code",
   "execution_count": 109,
   "metadata": {},
   "outputs": [],
   "source": [
    "import pandas as pd\n",
    "from sklearn.neighbors import KNeighborsRegressor,KNeighborsClassifier\n",
    "from sklearn.model_selection import train_test_split as tts\n",
    "from sklearn.metrics import r2_score, accuracy_score\n",
    "from sklearn.preprocessing import MinMaxScaler, LabelEncoder\n",
    "import matplotlib.pyplot as plt\n",
    "from sklearn.linear_model import LinearRegression\n",
    "import statsmodels.api as sm, statsmodels.formula.api as smf, seaborn as sns\n",
    "from sklearn.feature_selection import RFE\n"
   ]
  },
  {
   "cell_type": "code",
   "execution_count": 17,
   "metadata": {},
   "outputs": [],
   "source": [
    "df = pd.read_csv('/Users/03000070/Downloads/gapminder (1).csv');"
   ]
  },
  {
   "cell_type": "code",
   "execution_count": 18,
   "metadata": {},
   "outputs": [
    {
     "data": {
      "text/html": [
       "<div>\n",
       "<style scoped>\n",
       "    .dataframe tbody tr th:only-of-type {\n",
       "        vertical-align: middle;\n",
       "    }\n",
       "\n",
       "    .dataframe tbody tr th {\n",
       "        vertical-align: top;\n",
       "    }\n",
       "\n",
       "    .dataframe thead th {\n",
       "        text-align: right;\n",
       "    }\n",
       "</style>\n",
       "<table border=\"1\" class=\"dataframe\">\n",
       "  <thead>\n",
       "    <tr style=\"text-align: right;\">\n",
       "      <th></th>\n",
       "      <th>population</th>\n",
       "      <th>fertility</th>\n",
       "      <th>HIV</th>\n",
       "      <th>CO2</th>\n",
       "      <th>BMI_male</th>\n",
       "      <th>GDP</th>\n",
       "      <th>BMI_female</th>\n",
       "      <th>life</th>\n",
       "      <th>child_mortality</th>\n",
       "      <th>Region</th>\n",
       "    </tr>\n",
       "  </thead>\n",
       "  <tbody>\n",
       "    <tr>\n",
       "      <th>0</th>\n",
       "      <td>34811059.0</td>\n",
       "      <td>2.73</td>\n",
       "      <td>0.1</td>\n",
       "      <td>3.328945</td>\n",
       "      <td>24.59620</td>\n",
       "      <td>12314.0</td>\n",
       "      <td>129.9049</td>\n",
       "      <td>75.3</td>\n",
       "      <td>29.5</td>\n",
       "      <td>Middle East &amp; North Africa</td>\n",
       "    </tr>\n",
       "    <tr>\n",
       "      <th>1</th>\n",
       "      <td>19842251.0</td>\n",
       "      <td>6.43</td>\n",
       "      <td>2.0</td>\n",
       "      <td>1.474353</td>\n",
       "      <td>22.25083</td>\n",
       "      <td>7103.0</td>\n",
       "      <td>130.1247</td>\n",
       "      <td>58.3</td>\n",
       "      <td>192.0</td>\n",
       "      <td>Sub-Saharan Africa</td>\n",
       "    </tr>\n",
       "    <tr>\n",
       "      <th>2</th>\n",
       "      <td>40381860.0</td>\n",
       "      <td>2.24</td>\n",
       "      <td>0.5</td>\n",
       "      <td>4.785170</td>\n",
       "      <td>27.50170</td>\n",
       "      <td>14646.0</td>\n",
       "      <td>118.8915</td>\n",
       "      <td>75.5</td>\n",
       "      <td>15.4</td>\n",
       "      <td>America</td>\n",
       "    </tr>\n",
       "    <tr>\n",
       "      <th>3</th>\n",
       "      <td>2975029.0</td>\n",
       "      <td>1.40</td>\n",
       "      <td>0.1</td>\n",
       "      <td>1.804106</td>\n",
       "      <td>25.35542</td>\n",
       "      <td>7383.0</td>\n",
       "      <td>132.8108</td>\n",
       "      <td>72.5</td>\n",
       "      <td>20.0</td>\n",
       "      <td>Europe &amp; Central Asia</td>\n",
       "    </tr>\n",
       "    <tr>\n",
       "      <th>4</th>\n",
       "      <td>21370348.0</td>\n",
       "      <td>1.96</td>\n",
       "      <td>0.1</td>\n",
       "      <td>18.016313</td>\n",
       "      <td>27.56373</td>\n",
       "      <td>41312.0</td>\n",
       "      <td>117.3755</td>\n",
       "      <td>81.5</td>\n",
       "      <td>5.2</td>\n",
       "      <td>East Asia &amp; Pacific</td>\n",
       "    </tr>\n",
       "  </tbody>\n",
       "</table>\n",
       "</div>"
      ],
      "text/plain": [
       "   population  fertility  HIV        CO2  BMI_male      GDP  BMI_female  life  \\\n",
       "0  34811059.0       2.73  0.1   3.328945  24.59620  12314.0    129.9049  75.3   \n",
       "1  19842251.0       6.43  2.0   1.474353  22.25083   7103.0    130.1247  58.3   \n",
       "2  40381860.0       2.24  0.5   4.785170  27.50170  14646.0    118.8915  75.5   \n",
       "3   2975029.0       1.40  0.1   1.804106  25.35542   7383.0    132.8108  72.5   \n",
       "4  21370348.0       1.96  0.1  18.016313  27.56373  41312.0    117.3755  81.5   \n",
       "\n",
       "   child_mortality                      Region  \n",
       "0             29.5  Middle East & North Africa  \n",
       "1            192.0          Sub-Saharan Africa  \n",
       "2             15.4                     America  \n",
       "3             20.0       Europe & Central Asia  \n",
       "4              5.2         East Asia & Pacific  "
      ]
     },
     "execution_count": 18,
     "metadata": {},
     "output_type": "execute_result"
    }
   ],
   "source": [
    "df.head()"
   ]
  },
  {
   "cell_type": "code",
   "execution_count": 19,
   "metadata": {},
   "outputs": [
    {
     "data": {
      "text/plain": [
       "(139, 10)"
      ]
     },
     "execution_count": 19,
     "metadata": {},
     "output_type": "execute_result"
    }
   ],
   "source": [
    "df.shape"
   ]
  },
  {
   "cell_type": "markdown",
   "metadata": {},
   "source": [
    "KNN Regression"
   ]
  },
  {
   "cell_type": "code",
   "execution_count": 58,
   "metadata": {},
   "outputs": [],
   "source": [
    "df1 = df.copy()"
   ]
  },
  {
   "cell_type": "code",
   "execution_count": 21,
   "metadata": {},
   "outputs": [
    {
     "data": {
      "text/html": [
       "<div>\n",
       "<style scoped>\n",
       "    .dataframe tbody tr th:only-of-type {\n",
       "        vertical-align: middle;\n",
       "    }\n",
       "\n",
       "    .dataframe tbody tr th {\n",
       "        vertical-align: top;\n",
       "    }\n",
       "\n",
       "    .dataframe thead th {\n",
       "        text-align: right;\n",
       "    }\n",
       "</style>\n",
       "<table border=\"1\" class=\"dataframe\">\n",
       "  <thead>\n",
       "    <tr style=\"text-align: right;\">\n",
       "      <th></th>\n",
       "      <th>population</th>\n",
       "      <th>fertility</th>\n",
       "      <th>HIV</th>\n",
       "      <th>CO2</th>\n",
       "      <th>BMI_male</th>\n",
       "      <th>GDP</th>\n",
       "      <th>BMI_female</th>\n",
       "      <th>life</th>\n",
       "      <th>child_mortality</th>\n",
       "      <th>Region</th>\n",
       "    </tr>\n",
       "  </thead>\n",
       "  <tbody>\n",
       "    <tr>\n",
       "      <th>0</th>\n",
       "      <td>34811059.0</td>\n",
       "      <td>2.73</td>\n",
       "      <td>0.1</td>\n",
       "      <td>3.328945</td>\n",
       "      <td>24.59620</td>\n",
       "      <td>12314.0</td>\n",
       "      <td>129.9049</td>\n",
       "      <td>75.3</td>\n",
       "      <td>29.5</td>\n",
       "      <td>Middle East &amp; North Africa</td>\n",
       "    </tr>\n",
       "    <tr>\n",
       "      <th>1</th>\n",
       "      <td>19842251.0</td>\n",
       "      <td>6.43</td>\n",
       "      <td>2.0</td>\n",
       "      <td>1.474353</td>\n",
       "      <td>22.25083</td>\n",
       "      <td>7103.0</td>\n",
       "      <td>130.1247</td>\n",
       "      <td>58.3</td>\n",
       "      <td>192.0</td>\n",
       "      <td>Sub-Saharan Africa</td>\n",
       "    </tr>\n",
       "    <tr>\n",
       "      <th>2</th>\n",
       "      <td>40381860.0</td>\n",
       "      <td>2.24</td>\n",
       "      <td>0.5</td>\n",
       "      <td>4.785170</td>\n",
       "      <td>27.50170</td>\n",
       "      <td>14646.0</td>\n",
       "      <td>118.8915</td>\n",
       "      <td>75.5</td>\n",
       "      <td>15.4</td>\n",
       "      <td>America</td>\n",
       "    </tr>\n",
       "    <tr>\n",
       "      <th>3</th>\n",
       "      <td>2975029.0</td>\n",
       "      <td>1.40</td>\n",
       "      <td>0.1</td>\n",
       "      <td>1.804106</td>\n",
       "      <td>25.35542</td>\n",
       "      <td>7383.0</td>\n",
       "      <td>132.8108</td>\n",
       "      <td>72.5</td>\n",
       "      <td>20.0</td>\n",
       "      <td>Europe &amp; Central Asia</td>\n",
       "    </tr>\n",
       "    <tr>\n",
       "      <th>4</th>\n",
       "      <td>21370348.0</td>\n",
       "      <td>1.96</td>\n",
       "      <td>0.1</td>\n",
       "      <td>18.016313</td>\n",
       "      <td>27.56373</td>\n",
       "      <td>41312.0</td>\n",
       "      <td>117.3755</td>\n",
       "      <td>81.5</td>\n",
       "      <td>5.2</td>\n",
       "      <td>East Asia &amp; Pacific</td>\n",
       "    </tr>\n",
       "  </tbody>\n",
       "</table>\n",
       "</div>"
      ],
      "text/plain": [
       "   population  fertility  HIV        CO2  BMI_male      GDP  BMI_female  life  \\\n",
       "0  34811059.0       2.73  0.1   3.328945  24.59620  12314.0    129.9049  75.3   \n",
       "1  19842251.0       6.43  2.0   1.474353  22.25083   7103.0    130.1247  58.3   \n",
       "2  40381860.0       2.24  0.5   4.785170  27.50170  14646.0    118.8915  75.5   \n",
       "3   2975029.0       1.40  0.1   1.804106  25.35542   7383.0    132.8108  72.5   \n",
       "4  21370348.0       1.96  0.1  18.016313  27.56373  41312.0    117.3755  81.5   \n",
       "\n",
       "   child_mortality                      Region  \n",
       "0             29.5  Middle East & North Africa  \n",
       "1            192.0          Sub-Saharan Africa  \n",
       "2             15.4                     America  \n",
       "3             20.0       Europe & Central Asia  \n",
       "4              5.2         East Asia & Pacific  "
      ]
     },
     "execution_count": 21,
     "metadata": {},
     "output_type": "execute_result"
    }
   ],
   "source": [
    "df1.head()"
   ]
  },
  {
   "cell_type": "markdown",
   "metadata": {},
   "source": [
    "**KNN regression Without Region**"
   ]
  },
  {
   "cell_type": "code",
   "execution_count": 64,
   "metadata": {},
   "outputs": [
    {
     "name": "stdout",
     "output_type": "stream",
     "text": [
      "0.8403826409720275\n"
     ]
    }
   ],
   "source": [
    "df1 = df1.drop(['Region'],1)\n",
    "\n",
    "col_list = list(df1)\n",
    "\n",
    "scalar = MinMaxScaler()\n",
    "\n",
    "df1 = pd.DataFrame(scalar.fit_transform(df1))\n",
    "\n",
    "df1.columns = col_list\n",
    "\n",
    "X = df1.drop(['life'], 1)\n",
    "y = df1['life']\n",
    "\n",
    "knn = KNeighborsRegressor()\n",
    "\n",
    "X_train, X_test, y_train, y_test = tts(X,y, test_size=0.3, random_state=42)\n",
    "\n",
    "knn.fit(X_train, y_train)\n",
    "\n",
    "y_pred = knn.predict(X_test)\n",
    "\n",
    "print(r2_score(y_test, y_pred))"
   ]
  },
  {
   "cell_type": "markdown",
   "metadata": {},
   "source": [
    "**KNN regression with region - label encoded**"
   ]
  },
  {
   "cell_type": "code",
   "execution_count": 61,
   "metadata": {},
   "outputs": [
    {
     "name": "stdout",
     "output_type": "stream",
     "text": [
      "0.8322364747113008\n"
     ]
    },
    {
     "name": "stderr",
     "output_type": "stream",
     "text": [
      "/anaconda3/lib/python3.7/site-packages/sklearn/preprocessing/data.py:334: DataConversionWarning: Data with input dtype int64, float64 were all converted to float64 by MinMaxScaler.\n",
      "  return self.partial_fit(X, y)\n"
     ]
    }
   ],
   "source": [
    "le = LabelEncoder()\n",
    "scalar = MinMaxScaler()\n",
    "\n",
    "df2 = df.copy()\n",
    "\n",
    "col_list = list(df)\n",
    "\n",
    "df2['Region'] = le.fit_transform(df2['Region'])\n",
    "\n",
    "df2 = pd.DataFrame(scalar.fit_transform(df2))\n",
    "\n",
    "df2.columns = col_list\n",
    "\n",
    "X = df2.drop(['life'], 1)\n",
    "y = df2['life']\n",
    "\n",
    "knn = KNeighborsRegressor()\n",
    "\n",
    "X_train, X_test, y_train, y_test = tts(X,y, test_size=0.3, random_state=42)\n",
    "\n",
    "knn.fit(X_train, y_train)\n",
    "\n",
    "y_pred = knn.predict(X_test)\n",
    "\n",
    "print(r2_score(y_test, y_pred))"
   ]
  },
  {
   "cell_type": "markdown",
   "metadata": {},
   "source": [
    "**KNN regression with region - one hot encoded**"
   ]
  },
  {
   "cell_type": "code",
   "execution_count": 63,
   "metadata": {},
   "outputs": [
    {
     "name": "stdout",
     "output_type": "stream",
     "text": [
      "0.7304827372485798\n"
     ]
    },
    {
     "name": "stderr",
     "output_type": "stream",
     "text": [
      "/anaconda3/lib/python3.7/site-packages/sklearn/preprocessing/data.py:334: DataConversionWarning: Data with input dtype uint8, float64 were all converted to float64 by MinMaxScaler.\n",
      "  return self.partial_fit(X, y)\n"
     ]
    }
   ],
   "source": [
    "df3 = pd.get_dummies(df)\n",
    "\n",
    "scalar = MinMaxScaler()\n",
    "\n",
    "col_list = list(df3)\n",
    "\n",
    "df3 = pd.DataFrame(scalar.fit_transform(df3))\n",
    "\n",
    "df3.columns = col_list\n",
    "\n",
    "X = df3.drop(['life'], 1)\n",
    "y = df3['life']\n",
    "\n",
    "knn = KNeighborsRegressor()\n",
    "\n",
    "X_train, X_test, y_train, y_test = tts(X,y, test_size=0.3, random_state=42)\n",
    "\n",
    "knn.fit(X_train, y_train)\n",
    "\n",
    "y_pred = knn.predict(X_test)\n",
    "\n",
    "print(r2_score(y_test, y_pred))"
   ]
  },
  {
   "cell_type": "markdown",
   "metadata": {},
   "source": [
    "**Feature Region should be one hot encoded because its distribute equal weightage to each category**"
   ]
  },
  {
   "cell_type": "markdown",
   "metadata": {},
   "source": [
    "2. Plot a graph with the x axis being the number of neighours from 3 to 11 and the y axis being the r2 score of the knn. I need this graph with properly labelled axes. Has the accuracy increases as you increase the number of neighbors?"
   ]
  },
  {
   "cell_type": "code",
   "execution_count": 65,
   "metadata": {},
   "outputs": [
    {
     "name": "stdout",
     "output_type": "stream",
     "text": [
      "[0.808122862576393, 0.8274832343002191, 0.8403826409720275, 0.8339061904256189, 0.8635728673723961, 0.8664310794594933, 0.8694849239920768, 0.8654721033031736, 0.8727964157894119]\n"
     ]
    }
   ],
   "source": [
    "r2_scores = []\n",
    "\n",
    "df4 = df.drop(['Region'],1)\n",
    "\n",
    "scalar = MinMaxScaler()\n",
    "\n",
    "col_list = list(df4)\n",
    "\n",
    "df4 = pd.DataFrame(scalar.fit_transform(df4))\n",
    "\n",
    "df4.columns = col_list\n",
    "\n",
    "X = df4.drop(['life'], 1)\n",
    "y = df4['life']\n",
    "\n",
    "for i in range(3,12):\n",
    "    \n",
    "    knn = KNeighborsRegressor(i)\n",
    "    \n",
    "    X_train, X_test, y_train, y_test = tts(X,y, test_size=0.3, random_state=42)\n",
    "    \n",
    "    knn.fit(X_train, y_train)\n",
    "    \n",
    "    y_pred = knn.predict(X_test)\n",
    "    \n",
    "    r2_scores.append(r2_score(y_test, y_pred))\n",
    "    \n",
    "print(r2_scores)    "
   ]
  },
  {
   "cell_type": "code",
   "execution_count": 68,
   "metadata": {},
   "outputs": [
    {
     "data": {
      "image/png": "[encoded data removed]",
      "text/plain": [
       "<Figure size 432x288 with 1 Axes>"
      ]
     },
     "metadata": {
      "needs_background": "light"
     },
     "output_type": "display_data"
    }
   ],
   "source": [
    "#ploting the r2 scores of 3 of 12 neighbour knn regression\n",
    "\n",
    "plt.plot(r2_scores)\n",
    "\n",
    "plt.xlabel(\"Neighbour counts (K)\")\n",
    "\n",
    "plt.ylabel(\"R2 Score\")\n",
    "\n",
    "plt.xticks(range(9), range(3,12))\n",
    "\n",
    "plt.show()"
   ]
  },
  {
   "cell_type": "markdown",
   "metadata": {},
   "source": [
    "3. KNN Classification: Region is the output column and everything else is the X. Do you now need to label encode or one hot encode the region column? I need the accuracy score. Like the earlier KNN Regressor, plot a graph with the number of neighbors on the X axis and the accuracies on the Y axis"
   ]
  },
  {
   "cell_type": "code",
   "execution_count": 113,
   "metadata": {},
   "outputs": [
    {
     "data": {
      "text/plain": [
       "[0.19047619047619047,\n",
       " 0.2619047619047619,\n",
       " 0.2857142857142857,\n",
       " 0.30952380952380953,\n",
       " 0.2619047619047619,\n",
       " 0.23809523809523808,\n",
       " 0.2857142857142857,\n",
       " 0.23809523809523808,\n",
       " 0.38095238095238093]"
      ]
     },
     "execution_count": 113,
     "metadata": {},
     "output_type": "execute_result"
    }
   ],
   "source": [
    "df5 = df.copy()\n",
    "\n",
    "df5['Region'] = le.fit_transform(df5['Region'])\n",
    "\n",
    "y = df5['Region']\n",
    "\n",
    "# scalar = MinMaxScaler()\n",
    "\n",
    "# col_list = list(df5)\n",
    "\n",
    "# df5 = pd.DataFrame(scalar.fit_transform(df5))\n",
    "\n",
    "# df5.columns = col_list\n",
    "\n",
    "X = df5.drop(['Region'],1)\n",
    "\n",
    "accuracy_scores = []\n",
    "\n",
    "for i in range(3,12):\n",
    "    \n",
    "    knn = KNeighborsClassifier(i)\n",
    "    \n",
    "    X_train, X_test, y_train, y_test = tts(X, y, test_size=0.3, random_state=42)\n",
    "    \n",
    "    knn.fit(X_train,y_train)\n",
    "    \n",
    "    y_pred = knn.predict(X_test)\n",
    "    \n",
    "    accuracy_scores.append(accuracy_score(y_test,y_pred))\n",
    "    \n",
    "accuracy_scores   \n",
    " "
   ]
  },
  {
   "cell_type": "code",
   "execution_count": 118,
   "metadata": {},
   "outputs": [
    {
     "data": {
      "image/png": "[encoded data removed]",
      "text/plain": [
       "<Figure size 432x288 with 1 Axes>"
      ]
     },
     "metadata": {
      "needs_background": "light"
     },
     "output_type": "display_data"
    }
   ],
   "source": [
    "plt.plot(accuracy_scores)\n",
    "\n",
    "plt.xlabel(\"Neighbour counts\")\n",
    "\n",
    "plt.ylabel(\"Accuracy Score\")\n",
    "\n",
    "plt.xticks(range(9), range(3,12))\n",
    "\n",
    "plt.show()"
   ]
  },
  {
   "cell_type": "markdown",
   "metadata": {},
   "source": [
    "4. Write down the 5 Assumptions of linear regression in a mark down cell"
   ]
  },
  {
   "cell_type": "markdown",
   "metadata": {},
   "source": [
    "# Five Assumptions of Linear Regression\n",
    "### 1. Data points have to be linear\n",
    "### 2. Every variable has to be correlated with output variable but cannot be correlated with each other\n",
    "### 3. Homoscedasticity i.e. the error between all the variables is same throughout\n",
    "### 4. Normal distribution of Residuals"
   ]
  },
  {
   "cell_type": "code",
   "execution_count": 95,
   "metadata": {},
   "outputs": [
    {
     "data": {
      "text/plain": [
       "0.8380468731430133"
      ]
     },
     "execution_count": 95,
     "metadata": {},
     "output_type": "execute_result"
    }
   ],
   "source": [
    "X = df.drop(['life', 'Region'], 1)\n",
    "\n",
    "y = df['life']\n",
    "\n",
    "X_train, X_test, y_train, y_test = tts(X, y, test_size=0.3, random_state = 42)\n",
    "\n",
    "lin_reg = LinearRegression()\n",
    "\n",
    "lin_reg.fit(X_train, y_train)\n",
    "\n",
    "y_pred = lin_reg.predict(X_test)\n",
    "\n",
    "r2_score(y_test, y_pred)"
   ]
  },
  {
   "cell_type": "markdown",
   "metadata": {},
   "source": [
    "### With life being the y column, create a multiple linear regression model with\n",
    "\n",
    "#### a.Linear Regression with Pearson Correlation heatmap\n",
    "I would typically need the features which should return the features which have a more than 0.6 or a less than -0.6 correlation with the output.\n"
   ]
  },
  {
   "cell_type": "code",
   "execution_count": 100,
   "metadata": {},
   "outputs": [
    {
     "data": {
      "text/plain": [
       "<matplotlib.axes._subplots.AxesSubplot at 0x1c22d00c88>"
      ]
     },
     "execution_count": 100,
     "metadata": {},
     "output_type": "execute_result"
    },
    {
     "data": {
      "image/png": "[encoded data removed]",
      "text/plain": [
       "<Figure size 1152x576 with 2 Axes>"
      ]
     },
     "metadata": {
      "needs_background": "light"
     },
     "output_type": "display_data"
    }
   ],
   "source": [
    "df_lin = df.drop(['Region'], 1)\n",
    "\n",
    "plt.figure(figsize=(16,8))\n",
    "\n",
    "sns.heatmap(df_lin.corr(), annot=True)"
   ]
  },
  {
   "cell_type": "code",
   "execution_count": 102,
   "metadata": {},
   "outputs": [
    {
     "data": {
      "text/plain": [
       "0.8148964093063926"
      ]
     },
     "execution_count": 102,
     "metadata": {},
     "output_type": "execute_result"
    }
   ],
   "source": [
    "# initial_features = ['fertility','HIV','BMI_male','GDP','BMI_female','child_mortality']\n",
    "\n",
    "# eliminating column which correlate to each other\n",
    "features = ['HIV', 'GDP', 'BMI_female', 'child_mortality']\n",
    "\n",
    "X = df_lin[features]\n",
    "\n",
    "y = df_lin['life'] \n",
    "\n",
    "X_train, X_test, y_train, y_test = tts(X, y, test_size=0.3, random_state = 42)\n",
    "\n",
    "lin_reg = LinearRegression()\n",
    "\n",
    "lin_reg.fit(X_train, y_train)\n",
    "\n",
    "y_lin_pred = lin_reg.predict(X_test)\n",
    "\n",
    "r2_score(y_test, y_lin_pred)"
   ]
  },
  {
   "cell_type": "markdown",
   "metadata": {},
   "source": [
    "#### b.Linear Regression with Statsmodel"
   ]
  },
  {
   "cell_type": "code",
   "execution_count": 103,
   "metadata": {},
   "outputs": [
    {
     "name": "stderr",
     "output_type": "stream",
     "text": [
      "/anaconda3/lib/python3.7/site-packages/numpy/core/fromnumeric.py:2389: FutureWarning: Method .ptp is deprecated and will be removed in a future version. Use numpy.ptp instead.\n",
      "  return ptp(axis=axis, out=out, **kwargs)\n"
     ]
    },
    {
     "data": {
      "text/html": [
       "<table class=\"simpletable\">\n",
       "<caption>OLS Regression Results</caption>\n",
       "<tr>\n",
       "  <th>Dep. Variable:</th>          <td>life</td>       <th>  R-squared:         </th> <td>   0.898</td>\n",
       "</tr>\n",
       "<tr>\n",
       "  <th>Model:</th>                   <td>OLS</td>       <th>  Adj. R-squared:    </th> <td>   0.892</td>\n",
       "</tr>\n",
       "<tr>\n",
       "  <th>Method:</th>             <td>Least Squares</td>  <th>  F-statistic:       </th> <td>   142.8</td>\n",
       "</tr>\n",
       "<tr>\n",
       "  <th>Date:</th>             <td>Fri, 26 Jul 2019</td> <th>  Prob (F-statistic):</th> <td>1.48e-60</td>\n",
       "</tr>\n",
       "<tr>\n",
       "  <th>Time:</th>                 <td>23:39:36</td>     <th>  Log-Likelihood:    </th> <td> -345.49</td>\n",
       "</tr>\n",
       "<tr>\n",
       "  <th>No. Observations:</th>      <td>   139</td>      <th>  AIC:               </th> <td>   709.0</td>\n",
       "</tr>\n",
       "<tr>\n",
       "  <th>Df Residuals:</th>          <td>   130</td>      <th>  BIC:               </th> <td>   735.4</td>\n",
       "</tr>\n",
       "<tr>\n",
       "  <th>Df Model:</th>              <td>     8</td>      <th>                     </th>     <td> </td>   \n",
       "</tr>\n",
       "<tr>\n",
       "  <th>Covariance Type:</th>      <td>nonrobust</td>    <th>                     </th>     <td> </td>   \n",
       "</tr>\n",
       "</table>\n",
       "<table class=\"simpletable\">\n",
       "<tr>\n",
       "         <td></td>            <th>coef</th>     <th>std err</th>      <th>t</th>      <th>P>|t|</th>  <th>[0.025</th>    <th>0.975]</th>  \n",
       "</tr>\n",
       "<tr>\n",
       "  <th>const</th>           <td>   98.2083</td> <td>   10.759</td> <td>    9.128</td> <td> 0.000</td> <td>   76.922</td> <td>  119.494</td>\n",
       "</tr>\n",
       "<tr>\n",
       "  <th>population</th>      <td>-1.581e-09</td> <td> 2.49e-09</td> <td>   -0.636</td> <td> 0.526</td> <td> -6.5e-09</td> <td> 3.34e-09</td>\n",
       "</tr>\n",
       "<tr>\n",
       "  <th>fertility</th>       <td>   -0.4555</td> <td>    0.384</td> <td>   -1.188</td> <td> 0.237</td> <td>   -1.214</td> <td>    0.303</td>\n",
       "</tr>\n",
       "<tr>\n",
       "  <th>HIV</th>             <td>   -0.5991</td> <td>    0.066</td> <td>   -9.074</td> <td> 0.000</td> <td>   -0.730</td> <td>   -0.468</td>\n",
       "</tr>\n",
       "<tr>\n",
       "  <th>CO2</th>             <td>   -0.2041</td> <td>    0.074</td> <td>   -2.761</td> <td> 0.007</td> <td>   -0.350</td> <td>   -0.058</td>\n",
       "</tr>\n",
       "<tr>\n",
       "  <th>BMI_male</th>        <td>    0.3324</td> <td>    0.200</td> <td>    1.659</td> <td> 0.100</td> <td>   -0.064</td> <td>    0.729</td>\n",
       "</tr>\n",
       "<tr>\n",
       "  <th>GDP</th>             <td>    0.0001</td> <td> 2.56e-05</td> <td>    5.448</td> <td> 0.000</td> <td> 8.87e-05</td> <td>    0.000</td>\n",
       "</tr>\n",
       "<tr>\n",
       "  <th>BMI_female</th>      <td>   -0.2485</td> <td>    0.074</td> <td>   -3.338</td> <td> 0.001</td> <td>   -0.396</td> <td>   -0.101</td>\n",
       "</tr>\n",
       "<tr>\n",
       "  <th>child_mortality</th> <td>   -0.0919</td> <td>    0.015</td> <td>   -6.173</td> <td> 0.000</td> <td>   -0.121</td> <td>   -0.062</td>\n",
       "</tr>\n",
       "</table>\n",
       "<table class=\"simpletable\">\n",
       "<tr>\n",
       "  <th>Omnibus:</th>       <td> 7.456</td> <th>  Durbin-Watson:     </th> <td>   1.921</td>\n",
       "</tr>\n",
       "<tr>\n",
       "  <th>Prob(Omnibus):</th> <td> 0.024</td> <th>  Jarque-Bera (JB):  </th> <td>   8.236</td>\n",
       "</tr>\n",
       "<tr>\n",
       "  <th>Skew:</th>          <td>-0.385</td> <th>  Prob(JB):          </th> <td>  0.0163</td>\n",
       "</tr>\n",
       "<tr>\n",
       "  <th>Kurtosis:</th>      <td> 3.911</td> <th>  Cond. No.          </th> <td>4.85e+09</td>\n",
       "</tr>\n",
       "</table><br/><br/>Warnings:<br/>[1] Standard Errors assume that the covariance matrix of the errors is correctly specified.<br/>[2] The condition number is large, 4.85e+09. This might indicate that there are<br/>strong multicollinearity or other numerical problems."
      ],
      "text/plain": [
       "<class 'statsmodels.iolib.summary.Summary'>\n",
       "\"\"\"\n",
       "                            OLS Regression Results                            \n",
       "==============================================================================\n",
       "Dep. Variable:                   life   R-squared:                       0.898\n",
       "Model:                            OLS   Adj. R-squared:                  0.892\n",
       "Method:                 Least Squares   F-statistic:                     142.8\n",
       "Date:                Fri, 26 Jul 2019   Prob (F-statistic):           1.48e-60\n",
       "Time:                        23:39:36   Log-Likelihood:                -345.49\n",
       "No. Observations:                 139   AIC:                             709.0\n",
       "Df Residuals:                     130   BIC:                             735.4\n",
       "Df Model:                           8                                         \n",
       "Covariance Type:            nonrobust                                         \n",
       "===================================================================================\n",
       "                      coef    std err          t      P>|t|      [0.025      0.975]\n",
       "-----------------------------------------------------------------------------------\n",
       "const              98.2083     10.759      9.128      0.000      76.922     119.494\n",
       "population      -1.581e-09   2.49e-09     -0.636      0.526    -6.5e-09    3.34e-09\n",
       "fertility          -0.4555      0.384     -1.188      0.237      -1.214       0.303\n",
       "HIV                -0.5991      0.066     -9.074      0.000      -0.730      -0.468\n",
       "CO2                -0.2041      0.074     -2.761      0.007      -0.350      -0.058\n",
       "BMI_male            0.3324      0.200      1.659      0.100      -0.064       0.729\n",
       "GDP                 0.0001   2.56e-05      5.448      0.000    8.87e-05       0.000\n",
       "BMI_female         -0.2485      0.074     -3.338      0.001      -0.396      -0.101\n",
       "child_mortality    -0.0919      0.015     -6.173      0.000      -0.121      -0.062\n",
       "==============================================================================\n",
       "Omnibus:                        7.456   Durbin-Watson:                   1.921\n",
       "Prob(Omnibus):                  0.024   Jarque-Bera (JB):                8.236\n",
       "Skew:                          -0.385   Prob(JB):                       0.0163\n",
       "Kurtosis:                       3.911   Cond. No.                     4.85e+09\n",
       "==============================================================================\n",
       "\n",
       "Warnings:\n",
       "[1] Standard Errors assume that the covariance matrix of the errors is correctly specified.\n",
       "[2] The condition number is large, 4.85e+09. This might indicate that there are\n",
       "strong multicollinearity or other numerical problems.\n",
       "\"\"\""
      ]
     },
     "execution_count": 103,
     "metadata": {},
     "output_type": "execute_result"
    }
   ],
   "source": [
    "X = df_lin.drop(['life'], 1)\n",
    "\n",
    "y = df_lin['life']\n",
    "\n",
    "X = sm.add_constant(X)\n",
    "\n",
    "model_1 = sm.OLS(y,X).fit()\n",
    "\n",
    "model_1.summary()"
   ]
  },
  {
   "cell_type": "code",
   "execution_count": 104,
   "metadata": {},
   "outputs": [
    {
     "data": {
      "text/html": [
       "<table class=\"simpletable\">\n",
       "<caption>OLS Regression Results</caption>\n",
       "<tr>\n",
       "  <th>Dep. Variable:</th>          <td>life</td>       <th>  R-squared:         </th> <td>   0.897</td>\n",
       "</tr>\n",
       "<tr>\n",
       "  <th>Model:</th>                   <td>OLS</td>       <th>  Adj. R-squared:    </th> <td>   0.892</td>\n",
       "</tr>\n",
       "<tr>\n",
       "  <th>Method:</th>             <td>Least Squares</td>  <th>  F-statistic:       </th> <td>   163.9</td>\n",
       "</tr>\n",
       "<tr>\n",
       "  <th>Date:</th>             <td>Fri, 26 Jul 2019</td> <th>  Prob (F-statistic):</th> <td>1.36e-61</td>\n",
       "</tr>\n",
       "<tr>\n",
       "  <th>Time:</th>                 <td>23:41:05</td>     <th>  Log-Likelihood:    </th> <td> -345.71</td>\n",
       "</tr>\n",
       "<tr>\n",
       "  <th>No. Observations:</th>      <td>   139</td>      <th>  AIC:               </th> <td>   707.4</td>\n",
       "</tr>\n",
       "<tr>\n",
       "  <th>Df Residuals:</th>          <td>   131</td>      <th>  BIC:               </th> <td>   730.9</td>\n",
       "</tr>\n",
       "<tr>\n",
       "  <th>Df Model:</th>              <td>     7</td>      <th>                     </th>     <td> </td>   \n",
       "</tr>\n",
       "<tr>\n",
       "  <th>Covariance Type:</th>      <td>nonrobust</td>    <th>                     </th>     <td> </td>   \n",
       "</tr>\n",
       "</table>\n",
       "<table class=\"simpletable\">\n",
       "<tr>\n",
       "         <td></td>            <th>coef</th>     <th>std err</th>      <th>t</th>      <th>P>|t|</th>  <th>[0.025</th>    <th>0.975]</th>  \n",
       "</tr>\n",
       "<tr>\n",
       "  <th>const</th>           <td>   96.3158</td> <td>   10.316</td> <td>    9.337</td> <td> 0.000</td> <td>   75.909</td> <td>  116.723</td>\n",
       "</tr>\n",
       "<tr>\n",
       "  <th>fertility</th>       <td>   -0.4067</td> <td>    0.375</td> <td>   -1.085</td> <td> 0.280</td> <td>   -1.148</td> <td>    0.335</td>\n",
       "</tr>\n",
       "<tr>\n",
       "  <th>HIV</th>             <td>   -0.5958</td> <td>    0.066</td> <td>   -9.072</td> <td> 0.000</td> <td>   -0.726</td> <td>   -0.466</td>\n",
       "</tr>\n",
       "<tr>\n",
       "  <th>CO2</th>             <td>   -0.2088</td> <td>    0.073</td> <td>   -2.845</td> <td> 0.005</td> <td>   -0.354</td> <td>   -0.064</td>\n",
       "</tr>\n",
       "<tr>\n",
       "  <th>BMI_male</th>        <td>    0.3621</td> <td>    0.194</td> <td>    1.862</td> <td> 0.065</td> <td>   -0.023</td> <td>    0.747</td>\n",
       "</tr>\n",
       "<tr>\n",
       "  <th>GDP</th>             <td>    0.0001</td> <td> 2.54e-05</td> <td>    5.510</td> <td> 0.000</td> <td> 8.99e-05</td> <td>    0.000</td>\n",
       "</tr>\n",
       "<tr>\n",
       "  <th>BMI_female</th>      <td>   -0.2405</td> <td>    0.073</td> <td>   -3.285</td> <td> 0.001</td> <td>   -0.385</td> <td>   -0.096</td>\n",
       "</tr>\n",
       "<tr>\n",
       "  <th>child_mortality</th> <td>   -0.0930</td> <td>    0.015</td> <td>   -6.311</td> <td> 0.000</td> <td>   -0.122</td> <td>   -0.064</td>\n",
       "</tr>\n",
       "</table>\n",
       "<table class=\"simpletable\">\n",
       "<tr>\n",
       "  <th>Omnibus:</th>       <td> 6.734</td> <th>  Durbin-Watson:     </th> <td>   1.933</td>\n",
       "</tr>\n",
       "<tr>\n",
       "  <th>Prob(Omnibus):</th> <td> 0.034</td> <th>  Jarque-Bera (JB):  </th> <td>   7.244</td>\n",
       "</tr>\n",
       "<tr>\n",
       "  <th>Skew:</th>          <td>-0.360</td> <th>  Prob(JB):          </th> <td>  0.0267</td>\n",
       "</tr>\n",
       "<tr>\n",
       "  <th>Kurtosis:</th>      <td> 3.856</td> <th>  Cond. No.          </th> <td>1.03e+06</td>\n",
       "</tr>\n",
       "</table><br/><br/>Warnings:<br/>[1] Standard Errors assume that the covariance matrix of the errors is correctly specified.<br/>[2] The condition number is large, 1.03e+06. This might indicate that there are<br/>strong multicollinearity or other numerical problems."
      ],
      "text/plain": [
       "<class 'statsmodels.iolib.summary.Summary'>\n",
       "\"\"\"\n",
       "                            OLS Regression Results                            \n",
       "==============================================================================\n",
       "Dep. Variable:                   life   R-squared:                       0.897\n",
       "Model:                            OLS   Adj. R-squared:                  0.892\n",
       "Method:                 Least Squares   F-statistic:                     163.9\n",
       "Date:                Fri, 26 Jul 2019   Prob (F-statistic):           1.36e-61\n",
       "Time:                        23:41:05   Log-Likelihood:                -345.71\n",
       "No. Observations:                 139   AIC:                             707.4\n",
       "Df Residuals:                     131   BIC:                             730.9\n",
       "Df Model:                           7                                         \n",
       "Covariance Type:            nonrobust                                         \n",
       "===================================================================================\n",
       "                      coef    std err          t      P>|t|      [0.025      0.975]\n",
       "-----------------------------------------------------------------------------------\n",
       "const              96.3158     10.316      9.337      0.000      75.909     116.723\n",
       "fertility          -0.4067      0.375     -1.085      0.280      -1.148       0.335\n",
       "HIV                -0.5958      0.066     -9.072      0.000      -0.726      -0.466\n",
       "CO2                -0.2088      0.073     -2.845      0.005      -0.354      -0.064\n",
       "BMI_male            0.3621      0.194      1.862      0.065      -0.023       0.747\n",
       "GDP                 0.0001   2.54e-05      5.510      0.000    8.99e-05       0.000\n",
       "BMI_female         -0.2405      0.073     -3.285      0.001      -0.385      -0.096\n",
       "child_mortality    -0.0930      0.015     -6.311      0.000      -0.122      -0.064\n",
       "==============================================================================\n",
       "Omnibus:                        6.734   Durbin-Watson:                   1.933\n",
       "Prob(Omnibus):                  0.034   Jarque-Bera (JB):                7.244\n",
       "Skew:                          -0.360   Prob(JB):                       0.0267\n",
       "Kurtosis:                       3.856   Cond. No.                     1.03e+06\n",
       "==============================================================================\n",
       "\n",
       "Warnings:\n",
       "[1] Standard Errors assume that the covariance matrix of the errors is correctly specified.\n",
       "[2] The condition number is large, 1.03e+06. This might indicate that there are\n",
       "strong multicollinearity or other numerical problems.\n",
       "\"\"\""
      ]
     },
     "execution_count": 104,
     "metadata": {},
     "output_type": "execute_result"
    }
   ],
   "source": [
    "# step by step eliminating columns whose p>|t| is more than 0.05\n",
    "\n",
    "X = df_lin.drop(['life', 'population'], 1)\n",
    "\n",
    "y = df_lin['life']\n",
    "\n",
    "X = sm.add_constant(X)\n",
    "\n",
    "model_2 = sm.OLS(y,X).fit()\n",
    "\n",
    "model_2.summary()"
   ]
  },
  {
   "cell_type": "code",
   "execution_count": 105,
   "metadata": {},
   "outputs": [
    {
     "data": {
      "text/html": [
       "<table class=\"simpletable\">\n",
       "<caption>OLS Regression Results</caption>\n",
       "<tr>\n",
       "  <th>Dep. Variable:</th>          <td>life</td>       <th>  R-squared:         </th> <td>   0.897</td>\n",
       "</tr>\n",
       "<tr>\n",
       "  <th>Model:</th>                   <td>OLS</td>       <th>  Adj. R-squared:    </th> <td>   0.892</td>\n",
       "</tr>\n",
       "<tr>\n",
       "  <th>Method:</th>             <td>Least Squares</td>  <th>  F-statistic:       </th> <td>   190.7</td>\n",
       "</tr>\n",
       "<tr>\n",
       "  <th>Date:</th>             <td>Fri, 26 Jul 2019</td> <th>  Prob (F-statistic):</th> <td>1.69e-62</td>\n",
       "</tr>\n",
       "<tr>\n",
       "  <th>Time:</th>                 <td>23:41:59</td>     <th>  Log-Likelihood:    </th> <td> -346.33</td>\n",
       "</tr>\n",
       "<tr>\n",
       "  <th>No. Observations:</th>      <td>   139</td>      <th>  AIC:               </th> <td>   706.7</td>\n",
       "</tr>\n",
       "<tr>\n",
       "  <th>Df Residuals:</th>          <td>   132</td>      <th>  BIC:               </th> <td>   727.2</td>\n",
       "</tr>\n",
       "<tr>\n",
       "  <th>Df Model:</th>              <td>     6</td>      <th>                     </th>     <td> </td>   \n",
       "</tr>\n",
       "<tr>\n",
       "  <th>Covariance Type:</th>      <td>nonrobust</td>    <th>                     </th>     <td> </td>   \n",
       "</tr>\n",
       "</table>\n",
       "<table class=\"simpletable\">\n",
       "<tr>\n",
       "         <td></td>            <th>coef</th>     <th>std err</th>      <th>t</th>      <th>P>|t|</th>  <th>[0.025</th>    <th>0.975]</th>  \n",
       "</tr>\n",
       "<tr>\n",
       "  <th>const</th>           <td>   95.4596</td> <td>   10.292</td> <td>    9.275</td> <td> 0.000</td> <td>   75.100</td> <td>  115.819</td>\n",
       "</tr>\n",
       "<tr>\n",
       "  <th>HIV</th>             <td>   -0.5836</td> <td>    0.065</td> <td>   -9.013</td> <td> 0.000</td> <td>   -0.712</td> <td>   -0.456</td>\n",
       "</tr>\n",
       "<tr>\n",
       "  <th>CO2</th>             <td>   -0.2050</td> <td>    0.073</td> <td>   -2.794</td> <td> 0.006</td> <td>   -0.350</td> <td>   -0.060</td>\n",
       "</tr>\n",
       "<tr>\n",
       "  <th>BMI_male</th>        <td>    0.3902</td> <td>    0.193</td> <td>    2.023</td> <td> 0.045</td> <td>    0.009</td> <td>    0.772</td>\n",
       "</tr>\n",
       "<tr>\n",
       "  <th>GDP</th>             <td>    0.0001</td> <td> 2.54e-05</td> <td>    5.454</td> <td> 0.000</td> <td> 8.84e-05</td> <td>    0.000</td>\n",
       "</tr>\n",
       "<tr>\n",
       "  <th>BMI_female</th>      <td>   -0.2446</td> <td>    0.073</td> <td>   -3.343</td> <td> 0.001</td> <td>   -0.389</td> <td>   -0.100</td>\n",
       "</tr>\n",
       "<tr>\n",
       "  <th>child_mortality</th> <td>   -0.1053</td> <td>    0.009</td> <td>  -11.155</td> <td> 0.000</td> <td>   -0.124</td> <td>   -0.087</td>\n",
       "</tr>\n",
       "</table>\n",
       "<table class=\"simpletable\">\n",
       "<tr>\n",
       "  <th>Omnibus:</th>       <td> 6.880</td> <th>  Durbin-Watson:     </th> <td>   1.920</td>\n",
       "</tr>\n",
       "<tr>\n",
       "  <th>Prob(Omnibus):</th> <td> 0.032</td> <th>  Jarque-Bera (JB):  </th> <td>   7.887</td>\n",
       "</tr>\n",
       "<tr>\n",
       "  <th>Skew:</th>          <td>-0.336</td> <th>  Prob(JB):          </th> <td>  0.0194</td>\n",
       "</tr>\n",
       "<tr>\n",
       "  <th>Kurtosis:</th>      <td> 3.955</td> <th>  Cond. No.          </th> <td>1.03e+06</td>\n",
       "</tr>\n",
       "</table><br/><br/>Warnings:<br/>[1] Standard Errors assume that the covariance matrix of the errors is correctly specified.<br/>[2] The condition number is large, 1.03e+06. This might indicate that there are<br/>strong multicollinearity or other numerical problems."
      ],
      "text/plain": [
       "<class 'statsmodels.iolib.summary.Summary'>\n",
       "\"\"\"\n",
       "                            OLS Regression Results                            \n",
       "==============================================================================\n",
       "Dep. Variable:                   life   R-squared:                       0.897\n",
       "Model:                            OLS   Adj. R-squared:                  0.892\n",
       "Method:                 Least Squares   F-statistic:                     190.7\n",
       "Date:                Fri, 26 Jul 2019   Prob (F-statistic):           1.69e-62\n",
       "Time:                        23:41:59   Log-Likelihood:                -346.33\n",
       "No. Observations:                 139   AIC:                             706.7\n",
       "Df Residuals:                     132   BIC:                             727.2\n",
       "Df Model:                           6                                         \n",
       "Covariance Type:            nonrobust                                         \n",
       "===================================================================================\n",
       "                      coef    std err          t      P>|t|      [0.025      0.975]\n",
       "-----------------------------------------------------------------------------------\n",
       "const              95.4596     10.292      9.275      0.000      75.100     115.819\n",
       "HIV                -0.5836      0.065     -9.013      0.000      -0.712      -0.456\n",
       "CO2                -0.2050      0.073     -2.794      0.006      -0.350      -0.060\n",
       "BMI_male            0.3902      0.193      2.023      0.045       0.009       0.772\n",
       "GDP                 0.0001   2.54e-05      5.454      0.000    8.84e-05       0.000\n",
       "BMI_female         -0.2446      0.073     -3.343      0.001      -0.389      -0.100\n",
       "child_mortality    -0.1053      0.009    -11.155      0.000      -0.124      -0.087\n",
       "==============================================================================\n",
       "Omnibus:                        6.880   Durbin-Watson:                   1.920\n",
       "Prob(Omnibus):                  0.032   Jarque-Bera (JB):                7.887\n",
       "Skew:                          -0.336   Prob(JB):                       0.0194\n",
       "Kurtosis:                       3.955   Cond. No.                     1.03e+06\n",
       "==============================================================================\n",
       "\n",
       "Warnings:\n",
       "[1] Standard Errors assume that the covariance matrix of the errors is correctly specified.\n",
       "[2] The condition number is large, 1.03e+06. This might indicate that there are\n",
       "strong multicollinearity or other numerical problems.\n",
       "\"\"\""
      ]
     },
     "execution_count": 105,
     "metadata": {},
     "output_type": "execute_result"
    }
   ],
   "source": [
    "X = df_lin.drop(['life', 'population','fertility'], 1)\n",
    "\n",
    "y = df_lin['life']\n",
    "\n",
    "X = sm.add_constant(X)\n",
    "\n",
    "model_2 = sm.OLS(y,X).fit()\n",
    "\n",
    "model_2.summary()"
   ]
  },
  {
   "cell_type": "markdown",
   "metadata": {},
   "source": [
    "#### c.Linear Regression with Recursive Feature Elimination"
   ]
  },
  {
   "cell_type": "code",
   "execution_count": 112,
   "metadata": {},
   "outputs": [
    {
     "name": "stdout",
     "output_type": "stream",
     "text": [
      "Features list: ['population', 'fertility', 'HIV', 'CO2', 'BMI_male', 'GDP', 'BMI_female', 'child_mortality']\n",
      "Num Features: 4\n",
      "Selected Features: [False  True  True False  True False  True False]\n",
      "Feature Ranking: [5 1 1 3 1 4 1 2]\n"
     ]
    }
   ],
   "source": [
    "X = df_lin.drop(['life'],1)\n",
    "\n",
    "y = df_lin[\"life\"]\n",
    "\n",
    "rfe_reg = LinearRegression()\n",
    "\n",
    "rfe = RFE(rfe_reg, 4)\n",
    "\n",
    "fit = rfe.fit(X, y)\n",
    "\n",
    "print(\"Features list: %s\" % list(X))\n",
    "\n",
    "print(\"Num Features: %s\" % (fit.n_features_))\n",
    "\n",
    "print(\"Selected Features: %s\" % (fit.support_))\n",
    "\n",
    "print(\"Feature Ranking: %s\" % (fit.ranking_))"
   ]
  },
  {
   "cell_type": "code",
   "execution_count": null,
   "metadata": {},
   "outputs": [],
   "source": []
  }
 ],
 "metadata": {
  "kernelspec": {
   "display_name": "Python 3",
   "language": "python",
   "name": "python3"
  },
  "language_info": {
   "codemirror_mode": {
    "name": "ipython",
    "version": 3
   },
   "file_extension": ".py",
   "mimetype": "text/x-python",
   "name": "python",
   "nbconvert_exporter": "python",
   "pygments_lexer": "ipython3",
   "version": "3.7.3"
  }
 },
 "nbformat": 4,
 "nbformat_minor": 2
}
